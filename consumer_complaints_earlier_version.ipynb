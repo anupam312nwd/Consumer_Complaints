{
 "cells": [
  {
   "cell_type": "code",
   "execution_count": 1,
   "metadata": {
    "colab": {
     "base_uri": "https://localhost:8080/"
    },
    "id": "NQBbPT9f3l5a",
    "outputId": "70eb9227-2de0-4122-a7a0-80c802b56ab3"
   },
   "outputs": [
    {
     "name": "stdout",
     "output_type": "stream",
     "text": [
      "Mounted at /content/drive\n"
     ]
    }
   ],
   "source": [
    "from google.colab import drive\n",
    "drive.mount('/content/drive')"
   ]
  },
  {
   "cell_type": "code",
   "execution_count": null,
   "metadata": {
    "id": "ptcwwRk49Bf6"
   },
   "outputs": [],
   "source": [
    "!pip install optuna"
   ]
  },
  {
   "cell_type": "code",
   "execution_count": 3,
   "metadata": {
    "id": "0d15c970"
   },
   "outputs": [],
   "source": [
    "import os\n",
    "import random\n",
    "import math\n",
    "import warnings\n",
    "import time\n",
    "\n",
    "import numpy as np\n",
    "import pandas as pd\n",
    "import matplotlib.pyplot as plt\n",
    "%matplotlib inline\n",
    "import seaborn as sns\n",
    "\n",
    "plt.rcParams['figure.figsize'] = (10, 8)\n",
    "plt.style.use('ggplot')\n",
    "np.set_printoptions(precision=3)\n",
    "pd.set_option('precision', 3)\n",
    "pd.set_option('display.max_columns', None)\n",
    "sns.set(font_scale=1.2)\n",
    "\n",
    "warnings.filterwarnings('ignore')"
   ]
  },
  {
   "cell_type": "code",
   "execution_count": 4,
   "metadata": {
    "id": "b2825cc8"
   },
   "outputs": [],
   "source": [
    "import optuna\n",
    "import lightgbm\n",
    "import xgboost\n",
    "from pandas_profiling import ProfileReport\n",
    "\n",
    "from sklearn.preprocessing import OneHotEncoder, LabelEncoder, OrdinalEncoder, PowerTransformer, PolynomialFeatures\n",
    "from sklearn.impute import SimpleImputer, KNNImputer\n",
    "from sklearn.feature_selection import SelectPercentile, SelectKBest, mutual_info_classif, mutual_info_regression\n",
    "from sklearn.model_selection import cross_validate, cross_val_score, train_test_split\n",
    "from sklearn.decomposition import PCA, LatentDirichletAllocation\n",
    "\n",
    "from sklearn.multiclass import OneVsRestClassifier, OneVsOneClassifier\n",
    "from sklearn.ensemble import RandomForestClassifier, ExtraTreesClassifier, GradientBoostingClassifier\n",
    "from sklearn.neighbors import KNeighborsClassifier\n",
    "from sklearn.neural_network import MLPClassifier\n",
    "from sklearn.svm import SVC\n",
    "from sklearn.linear_model import LogisticRegression\n",
    "\n",
    "from sklearn.pipeline import Pipeline\n",
    "from sklearn.compose import ColumnTransformer\n",
    "\n",
    "from sklearn.metrics import confusion_matrix, accuracy_score, f1_score, classification_report, roc_curve, roc_auc_score\n",
    "from sklearn.metrics.scorer import make_scorer"
   ]
  },
  {
   "cell_type": "code",
   "execution_count": 5,
   "metadata": {
    "id": "puA2VMyt8aqt"
   },
   "outputs": [],
   "source": [
    "from tqdm import tqdm\n",
    "from tqdm.keras import TqdmCallback"
   ]
  },
  {
   "cell_type": "code",
   "execution_count": 6,
   "metadata": {
    "id": "DG-662Z_8wyD"
   },
   "outputs": [],
   "source": [
    "from sklearn.datasets import make_classification\n",
    "import imblearn\n",
    "\n",
    "from imblearn.ensemble import BalancedRandomForestClassifier\n",
    "from imblearn import over_sampling\n",
    "from imblearn import combine\n",
    "\n",
    "import tensorflow as tf\n",
    "from tensorflow import keras\n",
    "from tensorflow.keras.layers import Dense, Flatten, Dropout, BatchNormalization\n",
    "from tensorflow.keras.models import Sequential"
   ]
  },
  {
   "cell_type": "code",
   "execution_count": 7,
   "metadata": {
    "id": "4b4c5506"
   },
   "outputs": [],
   "source": [
    "colab_drive_path = '/content/drive/MyDrive'\n",
    "consumer_complaints = pd.read_csv('/content/drive/MyDrive/dataset/consumer_complaints.csv')\n",
    "df = consumer_complaints.copy()\n",
    "rename_cols = {'Date received': 'date_received', 'Product':'product', 'Sub-product':'sub_product', \n",
    "               'Sub-issue':'sub_issue', 'Consumer complaint narrative': 'complaint', 'Issue':'issue',\n",
    "               'Company public response': 'response_to_public', 'Company':'company', 'State':'state',\n",
    "              'ZIP code':'zip', 'Tags':'tags', 'Consumer consent provided?': 'consent_provided',\n",
    "              'Submitted via': 'submitted_via', 'Date sent to company':'date_sent',\n",
    "              'Company response to consumer':'response_to_consumer', 'Timely response?':'timely_response',\n",
    "              'Consumer disputed?':'consumer_disputed', 'Complaint ID':'complaint_id'}\n",
    "df.rename(columns=rename_cols, inplace=True)\n",
    "\n",
    "df['date_received'] = pd.to_datetime(df['date_received'], format=\"%m/%d/%Y\")\n",
    "df['date_sent'] = pd.to_datetime(df['date_sent'], format=\"%m/%d/%Y\")\n",
    "\n",
    "df.drop('complaint_id', axis=1, inplace=True)\n",
    "target = 'response_to_consumer'"
   ]
  },
  {
   "cell_type": "code",
   "execution_count": 8,
   "metadata": {
    "colab": {
     "base_uri": "https://localhost:8080/",
     "height": 452
    },
    "id": "3ee506d8",
    "outputId": "3b69d211-1d8c-4065-a21b-0acdbb5ebce4"
   },
   "outputs": [
    {
     "data": {
      "text/html": [
       "<div>\n",
       "<style scoped>\n",
       "    .dataframe tbody tr th:only-of-type {\n",
       "        vertical-align: middle;\n",
       "    }\n",
       "\n",
       "    .dataframe tbody tr th {\n",
       "        vertical-align: top;\n",
       "    }\n",
       "\n",
       "    .dataframe thead th {\n",
       "        text-align: right;\n",
       "    }\n",
       "</style>\n",
       "<table border=\"1\" class=\"dataframe\">\n",
       "  <thead>\n",
       "    <tr style=\"text-align: right;\">\n",
       "      <th></th>\n",
       "      <th>date_received</th>\n",
       "      <th>product</th>\n",
       "      <th>sub_product</th>\n",
       "      <th>issue</th>\n",
       "      <th>sub_issue</th>\n",
       "      <th>complaint</th>\n",
       "      <th>response_to_public</th>\n",
       "      <th>company</th>\n",
       "      <th>state</th>\n",
       "      <th>zip</th>\n",
       "      <th>tags</th>\n",
       "      <th>consent_provided</th>\n",
       "      <th>submitted_via</th>\n",
       "      <th>date_sent</th>\n",
       "      <th>response_to_consumer</th>\n",
       "      <th>timely_response</th>\n",
       "      <th>consumer_disputed</th>\n",
       "    </tr>\n",
       "  </thead>\n",
       "  <tbody>\n",
       "    <tr>\n",
       "      <th>0</th>\n",
       "      <td>2013-07-29</td>\n",
       "      <td>Consumer Loan</td>\n",
       "      <td>Vehicle loan</td>\n",
       "      <td>Managing the loan or lease</td>\n",
       "      <td>NaN</td>\n",
       "      <td>NaN</td>\n",
       "      <td>NaN</td>\n",
       "      <td>Wells Fargo &amp; Company</td>\n",
       "      <td>VA</td>\n",
       "      <td>24540</td>\n",
       "      <td>NaN</td>\n",
       "      <td>NaN</td>\n",
       "      <td>Phone</td>\n",
       "      <td>2013-07-30</td>\n",
       "      <td>Closed with explanation</td>\n",
       "      <td>Yes</td>\n",
       "      <td>No</td>\n",
       "    </tr>\n",
       "    <tr>\n",
       "      <th>1</th>\n",
       "      <td>2013-07-29</td>\n",
       "      <td>Bank account or service</td>\n",
       "      <td>Checking account</td>\n",
       "      <td>Using a debit or ATM card</td>\n",
       "      <td>NaN</td>\n",
       "      <td>NaN</td>\n",
       "      <td>NaN</td>\n",
       "      <td>Wells Fargo &amp; Company</td>\n",
       "      <td>CA</td>\n",
       "      <td>95992</td>\n",
       "      <td>Older American</td>\n",
       "      <td>NaN</td>\n",
       "      <td>Web</td>\n",
       "      <td>2013-07-31</td>\n",
       "      <td>Closed with explanation</td>\n",
       "      <td>Yes</td>\n",
       "      <td>No</td>\n",
       "    </tr>\n",
       "    <tr>\n",
       "      <th>2</th>\n",
       "      <td>2013-07-29</td>\n",
       "      <td>Bank account or service</td>\n",
       "      <td>Checking account</td>\n",
       "      <td>Account opening, closing, or management</td>\n",
       "      <td>NaN</td>\n",
       "      <td>NaN</td>\n",
       "      <td>NaN</td>\n",
       "      <td>Santander Bank US</td>\n",
       "      <td>NY</td>\n",
       "      <td>10065</td>\n",
       "      <td>NaN</td>\n",
       "      <td>NaN</td>\n",
       "      <td>Fax</td>\n",
       "      <td>2013-07-31</td>\n",
       "      <td>Closed</td>\n",
       "      <td>Yes</td>\n",
       "      <td>No</td>\n",
       "    </tr>\n",
       "    <tr>\n",
       "      <th>3</th>\n",
       "      <td>2013-07-29</td>\n",
       "      <td>Bank account or service</td>\n",
       "      <td>Checking account</td>\n",
       "      <td>Deposits and withdrawals</td>\n",
       "      <td>NaN</td>\n",
       "      <td>NaN</td>\n",
       "      <td>NaN</td>\n",
       "      <td>Wells Fargo &amp; Company</td>\n",
       "      <td>GA</td>\n",
       "      <td>30084</td>\n",
       "      <td>NaN</td>\n",
       "      <td>NaN</td>\n",
       "      <td>Web</td>\n",
       "      <td>2013-07-30</td>\n",
       "      <td>Closed with explanation</td>\n",
       "      <td>Yes</td>\n",
       "      <td>No</td>\n",
       "    </tr>\n",
       "    <tr>\n",
       "      <th>4</th>\n",
       "      <td>2013-07-29</td>\n",
       "      <td>Mortgage</td>\n",
       "      <td>Conventional fixed mortgage</td>\n",
       "      <td>Loan servicing, payments, escrow account</td>\n",
       "      <td>NaN</td>\n",
       "      <td>NaN</td>\n",
       "      <td>NaN</td>\n",
       "      <td>Franklin Credit Management</td>\n",
       "      <td>CT</td>\n",
       "      <td>06106</td>\n",
       "      <td>NaN</td>\n",
       "      <td>NaN</td>\n",
       "      <td>Web</td>\n",
       "      <td>2013-07-30</td>\n",
       "      <td>Closed with explanation</td>\n",
       "      <td>Yes</td>\n",
       "      <td>No</td>\n",
       "    </tr>\n",
       "  </tbody>\n",
       "</table>\n",
       "</div>"
      ],
      "text/plain": [
       "  date_received                  product                  sub_product  \\\n",
       "0    2013-07-29            Consumer Loan                 Vehicle loan   \n",
       "1    2013-07-29  Bank account or service             Checking account   \n",
       "2    2013-07-29  Bank account or service             Checking account   \n",
       "3    2013-07-29  Bank account or service             Checking account   \n",
       "4    2013-07-29                 Mortgage  Conventional fixed mortgage   \n",
       "\n",
       "                                      issue sub_issue complaint  \\\n",
       "0                Managing the loan or lease       NaN       NaN   \n",
       "1                 Using a debit or ATM card       NaN       NaN   \n",
       "2   Account opening, closing, or management       NaN       NaN   \n",
       "3                  Deposits and withdrawals       NaN       NaN   \n",
       "4  Loan servicing, payments, escrow account       NaN       NaN   \n",
       "\n",
       "  response_to_public                     company state    zip            tags  \\\n",
       "0                NaN       Wells Fargo & Company    VA  24540             NaN   \n",
       "1                NaN       Wells Fargo & Company    CA  95992  Older American   \n",
       "2                NaN           Santander Bank US    NY  10065             NaN   \n",
       "3                NaN       Wells Fargo & Company    GA  30084             NaN   \n",
       "4                NaN  Franklin Credit Management    CT  06106             NaN   \n",
       "\n",
       "  consent_provided submitted_via  date_sent     response_to_consumer  \\\n",
       "0              NaN         Phone 2013-07-30  Closed with explanation   \n",
       "1              NaN           Web 2013-07-31  Closed with explanation   \n",
       "2              NaN           Fax 2013-07-31                   Closed   \n",
       "3              NaN           Web 2013-07-30  Closed with explanation   \n",
       "4              NaN           Web 2013-07-30  Closed with explanation   \n",
       "\n",
       "  timely_response consumer_disputed  \n",
       "0             Yes                No  \n",
       "1             Yes                No  \n",
       "2             Yes                No  \n",
       "3             Yes                No  \n",
       "4             Yes                No  "
      ]
     },
     "execution_count": 8,
     "metadata": {},
     "output_type": "execute_result"
    }
   ],
   "source": [
    "df.head()"
   ]
  },
  {
   "cell_type": "markdown",
   "metadata": {
    "id": "rOx1JkIV6uvd"
   },
   "source": [
    "# Some Functions"
   ]
  },
  {
   "cell_type": "code",
   "execution_count": 9,
   "metadata": {
    "id": "ESXgWQCK68MX"
   },
   "outputs": [],
   "source": [
    "def get_top_k_frequent_percentage(col, k=10):\n",
    "    return df[col].value_counts().head(k).sum()*100/df.shape[0]\n",
    "def get_top_k_frequent_items(col, k=10):\n",
    "    return set(df[col].value_counts().head(k).index.tolist())"
   ]
  },
  {
   "cell_type": "markdown",
   "metadata": {
    "id": "0001ed0c"
   },
   "source": [
    "# Fill Null Values"
   ]
  },
  {
   "cell_type": "code",
   "execution_count": 10,
   "metadata": {
    "colab": {
     "base_uri": "https://localhost:8080/"
    },
    "id": "45527bba",
    "outputId": "3e69b881-e20d-42a1-8fca-689597972adb"
   },
   "outputs": [
    {
     "name": "stdout",
     "output_type": "stream",
     "text": [
      "<class 'pandas.core.frame.DataFrame'>\n",
      "RangeIndex: 670598 entries, 0 to 670597\n",
      "Data columns (total 17 columns):\n",
      " #   Column                Non-Null Count   Dtype         \n",
      "---  ------                --------------   -----         \n",
      " 0   date_received         670598 non-null  datetime64[ns]\n",
      " 1   product               670598 non-null  object        \n",
      " 2   sub_product           472396 non-null  object        \n",
      " 3   issue                 670598 non-null  object        \n",
      " 4   sub_issue             269868 non-null  object        \n",
      " 5   complaint             114704 non-null  object        \n",
      " 6   response_to_public    145197 non-null  object        \n",
      " 7   company               670598 non-null  object        \n",
      " 8   state                 665293 non-null  object        \n",
      " 9   zip                   665274 non-null  object        \n",
      " 10  tags                  94730 non-null   object        \n",
      " 11  consent_provided      208151 non-null  object        \n",
      " 12  submitted_via         670598 non-null  object        \n",
      " 13  date_sent             670598 non-null  datetime64[ns]\n",
      " 14  response_to_consumer  670598 non-null  object        \n",
      " 15  timely_response       670598 non-null  object        \n",
      " 16  consumer_disputed     629179 non-null  object        \n",
      "dtypes: datetime64[ns](2), object(15)\n",
      "memory usage: 87.0+ MB\n"
     ]
    }
   ],
   "source": [
    "df.info()"
   ]
  },
  {
   "cell_type": "code",
   "execution_count": 11,
   "metadata": {
    "colab": {
     "base_uri": "https://localhost:8080/"
    },
    "id": "83f05604",
    "outputId": "a7a612f6-3ff3-46a8-d304-de8740d1f246"
   },
   "outputs": [
    {
     "data": {
      "text/plain": [
       "Closed with explanation            493981\n",
       "Closed with non-monetary relief     84557\n",
       "Closed with monetary relief         45170\n",
       "Closed without relief               17863\n",
       "Closed                              15492\n",
       "Closed with relief                   5298\n",
       "In progress                          4665\n",
       "Untimely response                    3572\n",
       "Name: response_to_consumer, dtype: int64"
      ]
     },
     "execution_count": 11,
     "metadata": {},
     "output_type": "execute_result"
    }
   ],
   "source": [
    "df['response_to_consumer'].value_counts()"
   ]
  },
  {
   "cell_type": "code",
   "execution_count": 12,
   "metadata": {
    "colab": {
     "base_uri": "https://localhost:8080/"
    },
    "id": "9434ce98",
    "outputId": "b4f975bf-dccf-4dea-bd16-d5809d8eb582"
   },
   "outputs": [
    {
     "data": {
      "text/plain": [
       "['date_received',\n",
       " 'product',\n",
       " 'issue',\n",
       " 'company',\n",
       " 'submitted_via',\n",
       " 'date_sent',\n",
       " 'response_to_consumer',\n",
       " 'timely_response']"
      ]
     },
     "execution_count": 12,
     "metadata": {},
     "output_type": "execute_result"
    }
   ],
   "source": [
    "s = df.isna().sum() == 0\n",
    "s[s].index.tolist()"
   ]
  },
  {
   "cell_type": "code",
   "execution_count": 13,
   "metadata": {
    "colab": {
     "base_uri": "https://localhost:8080/"
    },
    "id": "e8155c90",
    "outputId": "66e2bb94-f15f-450a-923a-a6ccb083973c"
   },
   "outputs": [
    {
     "data": {
      "text/plain": [
       "sub_product           29.556\n",
       "sub_issue             59.757\n",
       "complaint             82.895\n",
       "response_to_public    78.348\n",
       "state                  0.791\n",
       "zip                    0.794\n",
       "tags                  85.874\n",
       "consent_provided      68.960\n",
       "consumer_disputed      6.176\n",
       "dtype: float64"
      ]
     },
     "execution_count": 13,
     "metadata": {},
     "output_type": "execute_result"
    }
   ],
   "source": [
    "s = df.isna().sum()*100/df.shape[0] > 0\n",
    "high_null_col = s[s].index.tolist()\n",
    "df[high_null_col].isna().sum()*100/df.shape[0]"
   ]
  },
  {
   "cell_type": "code",
   "execution_count": 14,
   "metadata": {
    "colab": {
     "base_uri": "https://localhost:8080/"
    },
    "id": "01e016fa",
    "outputId": "b0cfa479-3673-4774-a83e-54bde45b10a0"
   },
   "outputs": [
    {
     "data": {
      "text/plain": [
       "Yes    652848\n",
       "No      17750\n",
       "Name: timely_response, dtype: int64"
      ]
     },
     "execution_count": 14,
     "metadata": {},
     "output_type": "execute_result"
    }
   ],
   "source": [
    "df['timely_response'].value_counts()"
   ]
  },
  {
   "cell_type": "code",
   "execution_count": 15,
   "metadata": {
    "colab": {
     "base_uri": "https://localhost:8080/"
    },
    "id": "35b9c5be",
    "outputId": "793fee5f-1e13-4dae-9e09-b963425851a1"
   },
   "outputs": [
    {
     "data": {
      "text/plain": [
       "Mortgage                   210324\n",
       "Debt collection            124236\n",
       "Credit reporting           119195\n",
       "Credit card                 79007\n",
       "Bank account or service     76084\n",
       "Consumer Loan               26604\n",
       "Student loan                21651\n",
       "Payday loan                  4786\n",
       "Money transfers              4720\n",
       "Prepaid card                 3171\n",
       "Other financial service       806\n",
       "Virtual currency               14\n",
       "Name: product, dtype: int64"
      ]
     },
     "execution_count": 15,
     "metadata": {},
     "output_type": "execute_result"
    }
   ],
   "source": [
    "df['product'].value_counts()"
   ]
  },
  {
   "cell_type": "code",
   "execution_count": 16,
   "metadata": {
    "id": "60b93656"
   },
   "outputs": [],
   "source": [
    "df['complaint'] = 1 - df['complaint'].isna().astype(int)\n",
    "df['response_to_public'], index_response_to_public = pd.factorize(df['response_to_public'])\n",
    "df['tags'], index_tags = pd.factorize(df['tags'])\n",
    "df['consent_provided'], index_consent_provided = pd.factorize(df['consent_provided'])"
   ]
  },
  {
   "cell_type": "code",
   "execution_count": 17,
   "metadata": {
    "id": "8714c9df"
   },
   "outputs": [],
   "source": [
    "# df.groupby('sub_issue')[target].value_counts().to_frame().head(300).head(50)\n",
    "### checked to make sure that there is no particular relevance of 'sub_issue' to 'response_to_consumer'"
   ]
  },
  {
   "cell_type": "code",
   "execution_count": 18,
   "metadata": {
    "id": "26f84e71"
   },
   "outputs": [],
   "source": [
    "sub_issue_top = df['sub_issue'].value_counts().head(6).index.tolist()\n",
    "df['sub_issue'] = df['sub_issue'].apply(lambda x: 'others' if (not x is np.nan) and (x not in sub_issue_top) else x)\n",
    "df['sub_issue'], index_sub_issue = pd.factorize(df['sub_issue'])"
   ]
  },
  {
   "cell_type": "code",
   "execution_count": 19,
   "metadata": {
    "colab": {
     "base_uri": "https://localhost:8080/",
     "height": 452
    },
    "id": "26051220",
    "outputId": "f5242af4-a881-40cd-ff79-93c93710af5b"
   },
   "outputs": [
    {
     "data": {
      "text/html": [
       "<div>\n",
       "<style scoped>\n",
       "    .dataframe tbody tr th:only-of-type {\n",
       "        vertical-align: middle;\n",
       "    }\n",
       "\n",
       "    .dataframe tbody tr th {\n",
       "        vertical-align: top;\n",
       "    }\n",
       "\n",
       "    .dataframe thead th {\n",
       "        text-align: right;\n",
       "    }\n",
       "</style>\n",
       "<table border=\"1\" class=\"dataframe\">\n",
       "  <thead>\n",
       "    <tr style=\"text-align: right;\">\n",
       "      <th></th>\n",
       "      <th>date_received</th>\n",
       "      <th>product</th>\n",
       "      <th>sub_product</th>\n",
       "      <th>issue</th>\n",
       "      <th>sub_issue</th>\n",
       "      <th>complaint</th>\n",
       "      <th>response_to_public</th>\n",
       "      <th>company</th>\n",
       "      <th>state</th>\n",
       "      <th>zip</th>\n",
       "      <th>tags</th>\n",
       "      <th>consent_provided</th>\n",
       "      <th>submitted_via</th>\n",
       "      <th>date_sent</th>\n",
       "      <th>response_to_consumer</th>\n",
       "      <th>timely_response</th>\n",
       "      <th>consumer_disputed</th>\n",
       "    </tr>\n",
       "  </thead>\n",
       "  <tbody>\n",
       "    <tr>\n",
       "      <th>0</th>\n",
       "      <td>2013-07-29</td>\n",
       "      <td>Consumer Loan</td>\n",
       "      <td>Vehicle loan</td>\n",
       "      <td>Managing the loan or lease</td>\n",
       "      <td>-1</td>\n",
       "      <td>0</td>\n",
       "      <td>-1</td>\n",
       "      <td>Wells Fargo &amp; Company</td>\n",
       "      <td>VA</td>\n",
       "      <td>24540</td>\n",
       "      <td>-1</td>\n",
       "      <td>-1</td>\n",
       "      <td>Phone</td>\n",
       "      <td>2013-07-30</td>\n",
       "      <td>Closed with explanation</td>\n",
       "      <td>Yes</td>\n",
       "      <td>No</td>\n",
       "    </tr>\n",
       "    <tr>\n",
       "      <th>1</th>\n",
       "      <td>2013-07-29</td>\n",
       "      <td>Bank account or service</td>\n",
       "      <td>Checking account</td>\n",
       "      <td>Using a debit or ATM card</td>\n",
       "      <td>-1</td>\n",
       "      <td>0</td>\n",
       "      <td>-1</td>\n",
       "      <td>Wells Fargo &amp; Company</td>\n",
       "      <td>CA</td>\n",
       "      <td>95992</td>\n",
       "      <td>0</td>\n",
       "      <td>-1</td>\n",
       "      <td>Web</td>\n",
       "      <td>2013-07-31</td>\n",
       "      <td>Closed with explanation</td>\n",
       "      <td>Yes</td>\n",
       "      <td>No</td>\n",
       "    </tr>\n",
       "    <tr>\n",
       "      <th>2</th>\n",
       "      <td>2013-07-29</td>\n",
       "      <td>Bank account or service</td>\n",
       "      <td>Checking account</td>\n",
       "      <td>Account opening, closing, or management</td>\n",
       "      <td>-1</td>\n",
       "      <td>0</td>\n",
       "      <td>-1</td>\n",
       "      <td>Santander Bank US</td>\n",
       "      <td>NY</td>\n",
       "      <td>10065</td>\n",
       "      <td>-1</td>\n",
       "      <td>-1</td>\n",
       "      <td>Fax</td>\n",
       "      <td>2013-07-31</td>\n",
       "      <td>Closed</td>\n",
       "      <td>Yes</td>\n",
       "      <td>No</td>\n",
       "    </tr>\n",
       "    <tr>\n",
       "      <th>3</th>\n",
       "      <td>2013-07-29</td>\n",
       "      <td>Bank account or service</td>\n",
       "      <td>Checking account</td>\n",
       "      <td>Deposits and withdrawals</td>\n",
       "      <td>-1</td>\n",
       "      <td>0</td>\n",
       "      <td>-1</td>\n",
       "      <td>Wells Fargo &amp; Company</td>\n",
       "      <td>GA</td>\n",
       "      <td>30084</td>\n",
       "      <td>-1</td>\n",
       "      <td>-1</td>\n",
       "      <td>Web</td>\n",
       "      <td>2013-07-30</td>\n",
       "      <td>Closed with explanation</td>\n",
       "      <td>Yes</td>\n",
       "      <td>No</td>\n",
       "    </tr>\n",
       "    <tr>\n",
       "      <th>4</th>\n",
       "      <td>2013-07-29</td>\n",
       "      <td>Mortgage</td>\n",
       "      <td>Conventional fixed mortgage</td>\n",
       "      <td>Loan servicing, payments, escrow account</td>\n",
       "      <td>-1</td>\n",
       "      <td>0</td>\n",
       "      <td>-1</td>\n",
       "      <td>Franklin Credit Management</td>\n",
       "      <td>CT</td>\n",
       "      <td>06106</td>\n",
       "      <td>-1</td>\n",
       "      <td>-1</td>\n",
       "      <td>Web</td>\n",
       "      <td>2013-07-30</td>\n",
       "      <td>Closed with explanation</td>\n",
       "      <td>Yes</td>\n",
       "      <td>No</td>\n",
       "    </tr>\n",
       "  </tbody>\n",
       "</table>\n",
       "</div>"
      ],
      "text/plain": [
       "  date_received                  product                  sub_product  \\\n",
       "0    2013-07-29            Consumer Loan                 Vehicle loan   \n",
       "1    2013-07-29  Bank account or service             Checking account   \n",
       "2    2013-07-29  Bank account or service             Checking account   \n",
       "3    2013-07-29  Bank account or service             Checking account   \n",
       "4    2013-07-29                 Mortgage  Conventional fixed mortgage   \n",
       "\n",
       "                                      issue  sub_issue  complaint  \\\n",
       "0                Managing the loan or lease         -1          0   \n",
       "1                 Using a debit or ATM card         -1          0   \n",
       "2   Account opening, closing, or management         -1          0   \n",
       "3                  Deposits and withdrawals         -1          0   \n",
       "4  Loan servicing, payments, escrow account         -1          0   \n",
       "\n",
       "   response_to_public                     company state    zip  tags  \\\n",
       "0                  -1       Wells Fargo & Company    VA  24540    -1   \n",
       "1                  -1       Wells Fargo & Company    CA  95992     0   \n",
       "2                  -1           Santander Bank US    NY  10065    -1   \n",
       "3                  -1       Wells Fargo & Company    GA  30084    -1   \n",
       "4                  -1  Franklin Credit Management    CT  06106    -1   \n",
       "\n",
       "   consent_provided submitted_via  date_sent     response_to_consumer  \\\n",
       "0                -1         Phone 2013-07-30  Closed with explanation   \n",
       "1                -1           Web 2013-07-31  Closed with explanation   \n",
       "2                -1           Fax 2013-07-31                   Closed   \n",
       "3                -1           Web 2013-07-30  Closed with explanation   \n",
       "4                -1           Web 2013-07-30  Closed with explanation   \n",
       "\n",
       "  timely_response consumer_disputed  \n",
       "0             Yes                No  \n",
       "1             Yes                No  \n",
       "2             Yes                No  \n",
       "3             Yes                No  \n",
       "4             Yes                No  "
      ]
     },
     "execution_count": 19,
     "metadata": {},
     "output_type": "execute_result"
    }
   ],
   "source": [
    "df.head()"
   ]
  },
  {
   "cell_type": "code",
   "execution_count": 20,
   "metadata": {
    "id": "f4987efb"
   },
   "outputs": [],
   "source": [
    "cols = ['state', 'zip', 'consumer_disputed']\n",
    "df.loc[:, cols] = df[cols].fillna(method='ffill') # used ffill since % na is less and data is a bit sequential"
   ]
  },
  {
   "cell_type": "code",
   "execution_count": 21,
   "metadata": {
    "colab": {
     "base_uri": "https://localhost:8080/"
    },
    "id": "2b29de99",
    "outputId": "b2b3536d-b184-4a98-a682-1b0bb124588a"
   },
   "outputs": [
    {
     "data": {
      "text/plain": [
       "Mortgage                   210324\n",
       "Debt collection            124236\n",
       "Credit reporting           119195\n",
       "Credit card                 79007\n",
       "Bank account or service     76084\n",
       "Consumer Loan               26604\n",
       "Student loan                21651\n",
       "Payday loan                  4786\n",
       "Money transfers              4720\n",
       "Prepaid card                 3171\n",
       "Other financial service       806\n",
       "Virtual currency               14\n",
       "Name: product, dtype: int64"
      ]
     },
     "execution_count": 21,
     "metadata": {},
     "output_type": "execute_result"
    }
   ],
   "source": [
    "df['product'].value_counts()"
   ]
  },
  {
   "cell_type": "code",
   "execution_count": 22,
   "metadata": {
    "colab": {
     "base_uri": "https://localhost:8080/"
    },
    "id": "eea6e3a8",
    "outputId": "4903392f-d349-407e-d64a-212c91bcf961"
   },
   "outputs": [
    {
     "data": {
      "text/plain": [
       "Credit reporting    119195\n",
       "Credit card          79007\n",
       "Name: product, dtype: int64"
      ]
     },
     "execution_count": 22,
     "metadata": {},
     "output_type": "execute_result"
    }
   ],
   "source": [
    "col = 'sub_product'\n",
    "df_sub_prod_fill = df[~df['sub_product'].isna()].groupby(['product'])[col].apply(lambda x: x.mode().iloc[0]).to_frame().reset_index()\n",
    "df[df['sub_product'].isna()]['product'].value_counts()"
   ]
  },
  {
   "cell_type": "code",
   "execution_count": 23,
   "metadata": {
    "id": "ba5b99d3"
   },
   "outputs": [],
   "source": [
    "## since only missing values correspond to products 'credit reporting' and 'creadit card', \n",
    "## let's fill the 'sub_product' by 'credit'\n",
    "df['sub_product'].fillna(value='credit', inplace=True)"
   ]
  },
  {
   "cell_type": "markdown",
   "metadata": {
    "id": "6f62b4be"
   },
   "source": [
    "# Categorical Encoding"
   ]
  },
  {
   "cell_type": "code",
   "execution_count": 24,
   "metadata": {
    "colab": {
     "base_uri": "https://localhost:8080/",
     "height": 452
    },
    "id": "f50927b2",
    "outputId": "4f209861-70fc-49ba-e1ef-579e0215c635"
   },
   "outputs": [
    {
     "data": {
      "text/html": [
       "<div>\n",
       "<style scoped>\n",
       "    .dataframe tbody tr th:only-of-type {\n",
       "        vertical-align: middle;\n",
       "    }\n",
       "\n",
       "    .dataframe tbody tr th {\n",
       "        vertical-align: top;\n",
       "    }\n",
       "\n",
       "    .dataframe thead th {\n",
       "        text-align: right;\n",
       "    }\n",
       "</style>\n",
       "<table border=\"1\" class=\"dataframe\">\n",
       "  <thead>\n",
       "    <tr style=\"text-align: right;\">\n",
       "      <th></th>\n",
       "      <th>date_received</th>\n",
       "      <th>product</th>\n",
       "      <th>sub_product</th>\n",
       "      <th>issue</th>\n",
       "      <th>sub_issue</th>\n",
       "      <th>complaint</th>\n",
       "      <th>response_to_public</th>\n",
       "      <th>company</th>\n",
       "      <th>state</th>\n",
       "      <th>zip</th>\n",
       "      <th>tags</th>\n",
       "      <th>consent_provided</th>\n",
       "      <th>submitted_via</th>\n",
       "      <th>date_sent</th>\n",
       "      <th>response_to_consumer</th>\n",
       "      <th>timely_response</th>\n",
       "      <th>consumer_disputed</th>\n",
       "    </tr>\n",
       "  </thead>\n",
       "  <tbody>\n",
       "    <tr>\n",
       "      <th>0</th>\n",
       "      <td>2013-07-29</td>\n",
       "      <td>Consumer Loan</td>\n",
       "      <td>Vehicle loan</td>\n",
       "      <td>Managing the loan or lease</td>\n",
       "      <td>-1</td>\n",
       "      <td>0</td>\n",
       "      <td>-1</td>\n",
       "      <td>Wells Fargo &amp; Company</td>\n",
       "      <td>VA</td>\n",
       "      <td>24540</td>\n",
       "      <td>-1</td>\n",
       "      <td>-1</td>\n",
       "      <td>Phone</td>\n",
       "      <td>2013-07-30</td>\n",
       "      <td>Closed with explanation</td>\n",
       "      <td>Yes</td>\n",
       "      <td>No</td>\n",
       "    </tr>\n",
       "    <tr>\n",
       "      <th>1</th>\n",
       "      <td>2013-07-29</td>\n",
       "      <td>Bank account or service</td>\n",
       "      <td>Checking account</td>\n",
       "      <td>Using a debit or ATM card</td>\n",
       "      <td>-1</td>\n",
       "      <td>0</td>\n",
       "      <td>-1</td>\n",
       "      <td>Wells Fargo &amp; Company</td>\n",
       "      <td>CA</td>\n",
       "      <td>95992</td>\n",
       "      <td>0</td>\n",
       "      <td>-1</td>\n",
       "      <td>Web</td>\n",
       "      <td>2013-07-31</td>\n",
       "      <td>Closed with explanation</td>\n",
       "      <td>Yes</td>\n",
       "      <td>No</td>\n",
       "    </tr>\n",
       "    <tr>\n",
       "      <th>2</th>\n",
       "      <td>2013-07-29</td>\n",
       "      <td>Bank account or service</td>\n",
       "      <td>Checking account</td>\n",
       "      <td>Account opening, closing, or management</td>\n",
       "      <td>-1</td>\n",
       "      <td>0</td>\n",
       "      <td>-1</td>\n",
       "      <td>Santander Bank US</td>\n",
       "      <td>NY</td>\n",
       "      <td>10065</td>\n",
       "      <td>-1</td>\n",
       "      <td>-1</td>\n",
       "      <td>Fax</td>\n",
       "      <td>2013-07-31</td>\n",
       "      <td>Closed</td>\n",
       "      <td>Yes</td>\n",
       "      <td>No</td>\n",
       "    </tr>\n",
       "    <tr>\n",
       "      <th>3</th>\n",
       "      <td>2013-07-29</td>\n",
       "      <td>Bank account or service</td>\n",
       "      <td>Checking account</td>\n",
       "      <td>Deposits and withdrawals</td>\n",
       "      <td>-1</td>\n",
       "      <td>0</td>\n",
       "      <td>-1</td>\n",
       "      <td>Wells Fargo &amp; Company</td>\n",
       "      <td>GA</td>\n",
       "      <td>30084</td>\n",
       "      <td>-1</td>\n",
       "      <td>-1</td>\n",
       "      <td>Web</td>\n",
       "      <td>2013-07-30</td>\n",
       "      <td>Closed with explanation</td>\n",
       "      <td>Yes</td>\n",
       "      <td>No</td>\n",
       "    </tr>\n",
       "    <tr>\n",
       "      <th>4</th>\n",
       "      <td>2013-07-29</td>\n",
       "      <td>Mortgage</td>\n",
       "      <td>Conventional fixed mortgage</td>\n",
       "      <td>Loan servicing, payments, escrow account</td>\n",
       "      <td>-1</td>\n",
       "      <td>0</td>\n",
       "      <td>-1</td>\n",
       "      <td>Franklin Credit Management</td>\n",
       "      <td>CT</td>\n",
       "      <td>06106</td>\n",
       "      <td>-1</td>\n",
       "      <td>-1</td>\n",
       "      <td>Web</td>\n",
       "      <td>2013-07-30</td>\n",
       "      <td>Closed with explanation</td>\n",
       "      <td>Yes</td>\n",
       "      <td>No</td>\n",
       "    </tr>\n",
       "  </tbody>\n",
       "</table>\n",
       "</div>"
      ],
      "text/plain": [
       "  date_received                  product                  sub_product  \\\n",
       "0    2013-07-29            Consumer Loan                 Vehicle loan   \n",
       "1    2013-07-29  Bank account or service             Checking account   \n",
       "2    2013-07-29  Bank account or service             Checking account   \n",
       "3    2013-07-29  Bank account or service             Checking account   \n",
       "4    2013-07-29                 Mortgage  Conventional fixed mortgage   \n",
       "\n",
       "                                      issue  sub_issue  complaint  \\\n",
       "0                Managing the loan or lease         -1          0   \n",
       "1                 Using a debit or ATM card         -1          0   \n",
       "2   Account opening, closing, or management         -1          0   \n",
       "3                  Deposits and withdrawals         -1          0   \n",
       "4  Loan servicing, payments, escrow account         -1          0   \n",
       "\n",
       "   response_to_public                     company state    zip  tags  \\\n",
       "0                  -1       Wells Fargo & Company    VA  24540    -1   \n",
       "1                  -1       Wells Fargo & Company    CA  95992     0   \n",
       "2                  -1           Santander Bank US    NY  10065    -1   \n",
       "3                  -1       Wells Fargo & Company    GA  30084    -1   \n",
       "4                  -1  Franklin Credit Management    CT  06106    -1   \n",
       "\n",
       "   consent_provided submitted_via  date_sent     response_to_consumer  \\\n",
       "0                -1         Phone 2013-07-30  Closed with explanation   \n",
       "1                -1           Web 2013-07-31  Closed with explanation   \n",
       "2                -1           Fax 2013-07-31                   Closed   \n",
       "3                -1           Web 2013-07-30  Closed with explanation   \n",
       "4                -1           Web 2013-07-30  Closed with explanation   \n",
       "\n",
       "  timely_response consumer_disputed  \n",
       "0             Yes                No  \n",
       "1             Yes                No  \n",
       "2             Yes                No  \n",
       "3             Yes                No  \n",
       "4             Yes                No  "
      ]
     },
     "execution_count": 24,
     "metadata": {},
     "output_type": "execute_result"
    }
   ],
   "source": [
    "df.head()"
   ]
  },
  {
   "cell_type": "code",
   "execution_count": 25,
   "metadata": {
    "id": "6e9890b3"
   },
   "outputs": [],
   "source": [
    "yes_no_dct = {'Yes':1, 'No':0}\n",
    "df['timely_response'] = df['timely_response'].apply(lambda x: yes_no_dct[x])\n",
    "df['consumer_disputed'] = df['consumer_disputed'].apply(lambda x: yes_no_dct[x])"
   ]
  },
  {
   "cell_type": "code",
   "execution_count": 26,
   "metadata": {
    "colab": {
     "base_uri": "https://localhost:8080/"
    },
    "id": "5f9e11e5",
    "outputId": "880def5f-474b-4528-af19-f253a02e116b"
   },
   "outputs": [
    {
     "name": "stdout",
     "output_type": "stream",
     "text": [
      "   12, product\n",
      "   48, sub_product\n",
      "   95, issue\n",
      " 3933, company\n",
      "   62, state\n",
      "27889, zip\n",
      "    6, submitted_via\n",
      "    8, response_to_consumer\n"
     ]
    }
   ],
   "source": [
    "for col in df.select_dtypes(['object']):\n",
    "    print(f'{df[col].nunique():>5}, {col}')"
   ]
  },
  {
   "cell_type": "code",
   "execution_count": 27,
   "metadata": {
    "colab": {
     "base_uri": "https://localhost:8080/",
     "height": 452
    },
    "id": "04c87162",
    "outputId": "3bc41f97-d448-42f3-8ae9-2b6a7f6f7f0c"
   },
   "outputs": [
    {
     "data": {
      "text/html": [
       "<div>\n",
       "<style scoped>\n",
       "    .dataframe tbody tr th:only-of-type {\n",
       "        vertical-align: middle;\n",
       "    }\n",
       "\n",
       "    .dataframe tbody tr th {\n",
       "        vertical-align: top;\n",
       "    }\n",
       "\n",
       "    .dataframe thead th {\n",
       "        text-align: right;\n",
       "    }\n",
       "</style>\n",
       "<table border=\"1\" class=\"dataframe\">\n",
       "  <thead>\n",
       "    <tr style=\"text-align: right;\">\n",
       "      <th></th>\n",
       "      <th>date_received</th>\n",
       "      <th>product</th>\n",
       "      <th>sub_product</th>\n",
       "      <th>issue</th>\n",
       "      <th>sub_issue</th>\n",
       "      <th>complaint</th>\n",
       "      <th>response_to_public</th>\n",
       "      <th>company</th>\n",
       "      <th>state</th>\n",
       "      <th>zip</th>\n",
       "      <th>tags</th>\n",
       "      <th>consent_provided</th>\n",
       "      <th>submitted_via</th>\n",
       "      <th>date_sent</th>\n",
       "      <th>response_to_consumer</th>\n",
       "      <th>timely_response</th>\n",
       "      <th>consumer_disputed</th>\n",
       "    </tr>\n",
       "  </thead>\n",
       "  <tbody>\n",
       "    <tr>\n",
       "      <th>0</th>\n",
       "      <td>2013-07-29</td>\n",
       "      <td>Consumer Loan</td>\n",
       "      <td>Vehicle loan</td>\n",
       "      <td>Managing the loan or lease</td>\n",
       "      <td>-1</td>\n",
       "      <td>0</td>\n",
       "      <td>-1</td>\n",
       "      <td>Wells Fargo &amp; Company</td>\n",
       "      <td>VA</td>\n",
       "      <td>24540</td>\n",
       "      <td>-1</td>\n",
       "      <td>-1</td>\n",
       "      <td>Phone</td>\n",
       "      <td>2013-07-30</td>\n",
       "      <td>Closed with explanation</td>\n",
       "      <td>1</td>\n",
       "      <td>0</td>\n",
       "    </tr>\n",
       "    <tr>\n",
       "      <th>1</th>\n",
       "      <td>2013-07-29</td>\n",
       "      <td>Bank account or service</td>\n",
       "      <td>Checking account</td>\n",
       "      <td>Using a debit or ATM card</td>\n",
       "      <td>-1</td>\n",
       "      <td>0</td>\n",
       "      <td>-1</td>\n",
       "      <td>Wells Fargo &amp; Company</td>\n",
       "      <td>CA</td>\n",
       "      <td>95992</td>\n",
       "      <td>0</td>\n",
       "      <td>-1</td>\n",
       "      <td>Web</td>\n",
       "      <td>2013-07-31</td>\n",
       "      <td>Closed with explanation</td>\n",
       "      <td>1</td>\n",
       "      <td>0</td>\n",
       "    </tr>\n",
       "    <tr>\n",
       "      <th>2</th>\n",
       "      <td>2013-07-29</td>\n",
       "      <td>Bank account or service</td>\n",
       "      <td>Checking account</td>\n",
       "      <td>Account opening, closing, or management</td>\n",
       "      <td>-1</td>\n",
       "      <td>0</td>\n",
       "      <td>-1</td>\n",
       "      <td>Santander Bank US</td>\n",
       "      <td>NY</td>\n",
       "      <td>10065</td>\n",
       "      <td>-1</td>\n",
       "      <td>-1</td>\n",
       "      <td>Fax</td>\n",
       "      <td>2013-07-31</td>\n",
       "      <td>Closed</td>\n",
       "      <td>1</td>\n",
       "      <td>0</td>\n",
       "    </tr>\n",
       "    <tr>\n",
       "      <th>3</th>\n",
       "      <td>2013-07-29</td>\n",
       "      <td>Bank account or service</td>\n",
       "      <td>Checking account</td>\n",
       "      <td>Deposits and withdrawals</td>\n",
       "      <td>-1</td>\n",
       "      <td>0</td>\n",
       "      <td>-1</td>\n",
       "      <td>Wells Fargo &amp; Company</td>\n",
       "      <td>GA</td>\n",
       "      <td>30084</td>\n",
       "      <td>-1</td>\n",
       "      <td>-1</td>\n",
       "      <td>Web</td>\n",
       "      <td>2013-07-30</td>\n",
       "      <td>Closed with explanation</td>\n",
       "      <td>1</td>\n",
       "      <td>0</td>\n",
       "    </tr>\n",
       "    <tr>\n",
       "      <th>4</th>\n",
       "      <td>2013-07-29</td>\n",
       "      <td>Mortgage</td>\n",
       "      <td>Conventional fixed mortgage</td>\n",
       "      <td>Loan servicing, payments, escrow account</td>\n",
       "      <td>-1</td>\n",
       "      <td>0</td>\n",
       "      <td>-1</td>\n",
       "      <td>Franklin Credit Management</td>\n",
       "      <td>CT</td>\n",
       "      <td>06106</td>\n",
       "      <td>-1</td>\n",
       "      <td>-1</td>\n",
       "      <td>Web</td>\n",
       "      <td>2013-07-30</td>\n",
       "      <td>Closed with explanation</td>\n",
       "      <td>1</td>\n",
       "      <td>0</td>\n",
       "    </tr>\n",
       "  </tbody>\n",
       "</table>\n",
       "</div>"
      ],
      "text/plain": [
       "  date_received                  product                  sub_product  \\\n",
       "0    2013-07-29            Consumer Loan                 Vehicle loan   \n",
       "1    2013-07-29  Bank account or service             Checking account   \n",
       "2    2013-07-29  Bank account or service             Checking account   \n",
       "3    2013-07-29  Bank account or service             Checking account   \n",
       "4    2013-07-29                 Mortgage  Conventional fixed mortgage   \n",
       "\n",
       "                                      issue  sub_issue  complaint  \\\n",
       "0                Managing the loan or lease         -1          0   \n",
       "1                 Using a debit or ATM card         -1          0   \n",
       "2   Account opening, closing, or management         -1          0   \n",
       "3                  Deposits and withdrawals         -1          0   \n",
       "4  Loan servicing, payments, escrow account         -1          0   \n",
       "\n",
       "   response_to_public                     company state    zip  tags  \\\n",
       "0                  -1       Wells Fargo & Company    VA  24540    -1   \n",
       "1                  -1       Wells Fargo & Company    CA  95992     0   \n",
       "2                  -1           Santander Bank US    NY  10065    -1   \n",
       "3                  -1       Wells Fargo & Company    GA  30084    -1   \n",
       "4                  -1  Franklin Credit Management    CT  06106    -1   \n",
       "\n",
       "   consent_provided submitted_via  date_sent     response_to_consumer  \\\n",
       "0                -1         Phone 2013-07-30  Closed with explanation   \n",
       "1                -1           Web 2013-07-31  Closed with explanation   \n",
       "2                -1           Fax 2013-07-31                   Closed   \n",
       "3                -1           Web 2013-07-30  Closed with explanation   \n",
       "4                -1           Web 2013-07-30  Closed with explanation   \n",
       "\n",
       "   timely_response  consumer_disputed  \n",
       "0                1                  0  \n",
       "1                1                  0  \n",
       "2                1                  0  \n",
       "3                1                  0  \n",
       "4                1                  0  "
      ]
     },
     "execution_count": 27,
     "metadata": {},
     "output_type": "execute_result"
    }
   ],
   "source": [
    "df.head()"
   ]
  },
  {
   "cell_type": "code",
   "execution_count": 28,
   "metadata": {
    "id": "78e4a563"
   },
   "outputs": [],
   "source": [
    "df['time_delta'] = (df['date_sent'] - df['date_received']).dt.days\n",
    "\n",
    "for col in ['date_received', 'date_sent']:\n",
    "    df[col+'_day'] = df[col].dt.day\n",
    "    df[col+'_month'] = df[col].dt.month\n",
    "    df[col+'_quarter'] = df[col].dt.quarter\n",
    "    df[col+'_year'] = df[col].dt.year"
   ]
  },
  {
   "cell_type": "code",
   "execution_count": 29,
   "metadata": {
    "id": "5526419b"
   },
   "outputs": [],
   "source": [
    "# def get_zip_val_to_k_place(z):\n",
    "#     k = 3\n",
    "#     z = [val for val in str(z)]\n",
    "#     z[-k:] = ['0']*k\n",
    "#     return int(''.join(z))\n",
    "\n",
    "# def try_zip_rounding(z):\n",
    "#     try:\n",
    "#         return get_zip_val_to_k_place(z)\n",
    "#     except:\n",
    "#         return np.nan\n",
    "\n",
    "# df['zip_rounded'] = df['zip'].apply(try_zip_rounding)\n",
    "\n",
    "# func = lambda x: x.fillna(x.median() if np.issubdtype(x.dtype, np.number) else x.mode().iloc[0])\n",
    "# df['zip_rounded'] = df.groupby(['state'])['zip_rounded'].transform(func)\n",
    "# df['zip_rounded'] = df['zip_rounded'].apply(lambda x: abs(int(x)))\n",
    "\n",
    "# top_zip_codes = df['zip_rounded'].value_counts().head(35).index.tolist()"
   ]
  },
  {
   "cell_type": "markdown",
   "metadata": {
    "id": "8a365cb7"
   },
   "source": [
    "After rounding `zip` code to last 3 places, and filling null values using `groupby` and `median`,\n",
    "we check unique values of `zip` grouping by `state` and find that most of the zip codes are concentrated\n",
    "on 1-3 zip codes within a state, which is not accounting for much variance given `state` info.\n",
    "Even if we pick up top few `zip` codes and replace the rest by the median values using groupby on state,\n",
    "it will not add any info besides what we have from `state` info, but will create many more columns after\n",
    "one hot encoding. \n",
    "Hence, we will drop `zip` feature."
   ]
  },
  {
   "cell_type": "code",
   "execution_count": 30,
   "metadata": {
    "colab": {
     "base_uri": "https://localhost:8080/"
    },
    "id": "0100baea",
    "outputId": "c41916aa-d7f5-4ab5-b167-28838577ec68"
   },
   "outputs": [
    {
     "name": "stdout",
     "output_type": "stream",
     "text": [
      "['state', 'issue', 'submitted_via', 'response_to_consumer', 'sub_product', 'company', 'product']\n",
      "  62 state\n",
      "  95 issue\n",
      "   6 submitted_via\n",
      "   8 response_to_consumer\n",
      "  48 sub_product\n",
      "3933 company\n",
      "  12 product\n"
     ]
    }
   ],
   "source": [
    "cols_to_drop = ['date_received', 'date_sent', 'zip']\n",
    "cat_cols = df.select_dtypes(['object', 'datetime64']).columns.tolist()\n",
    "cat_cols = list(set(cat_cols).difference(set(cols_to_drop)))\n",
    "print(cat_cols)\n",
    "for col in cat_cols:\n",
    "    print(f'{df[col].nunique():>4} {col}')"
   ]
  },
  {
   "cell_type": "code",
   "execution_count": 31,
   "metadata": {
    "colab": {
     "base_uri": "https://localhost:8080/"
    },
    "id": "61c1be98",
    "outputId": "d12712ef-6d4d-4646-886e-f06dfc0d0c67"
   },
   "outputs": [
    {
     "name": "stdout",
     "output_type": "stream",
     "text": [
      "product top freq percentage:  98.70101014318564\n",
      "sub_product top freq percentage:  76.03735770163347\n",
      "issue top freq percentage:  61.84166967393282\n",
      "state top freq percentage:  74.19198983593748\n",
      "company top freq percentage:  60.10068625316509\n"
     ]
    }
   ],
   "source": [
    "print('product top freq percentage: ', get_top_k_frequent_percentage('product', 8))\n",
    "print('sub_product top freq percentage: ', get_top_k_frequent_percentage('sub_product', 8))\n",
    "print('issue top freq percentage: ', get_top_k_frequent_percentage('issue', 8))\n",
    "print('state top freq percentage: ', get_top_k_frequent_percentage('state', 15))\n",
    "print('company top freq percentage: ', get_top_k_frequent_percentage('company', 15))"
   ]
  },
  {
   "cell_type": "code",
   "execution_count": 32,
   "metadata": {
    "id": "495c2868"
   },
   "outputs": [],
   "source": [
    "freq_company = get_top_k_frequent_items('company', 12)\n",
    "df['company'] = df['company'].apply(lambda x: x if x in freq_company else 'Others')\n",
    "\n",
    "freq_issue = get_top_k_frequent_items('issue', 8)\n",
    "df['issue'] = df['issue'].apply(lambda x: x if x in freq_issue else 'others')"
   ]
  },
  {
   "cell_type": "code",
   "execution_count": 33,
   "metadata": {
    "colab": {
     "base_uri": "https://localhost:8080/"
    },
    "id": "5LW43mxqC8Pf",
    "outputId": "5d59362a-bcab-4c9f-b52f-824029171d1e"
   },
   "outputs": [
    {
     "data": {
      "text/plain": [
       "Web            446035\n",
       "Referral       123224\n",
       "Phone           47389\n",
       "Postal mail     43869\n",
       "Fax              9733\n",
       "Email             348\n",
       "Name: submitted_via, dtype: int64"
      ]
     },
     "execution_count": 33,
     "metadata": {},
     "output_type": "execute_result"
    }
   ],
   "source": [
    "df['submitted_via'].value_counts()"
   ]
  },
  {
   "cell_type": "code",
   "execution_count": 34,
   "metadata": {
    "id": "e180d31d"
   },
   "outputs": [],
   "source": [
    "df['response'] = df['response_to_consumer']\n",
    "le = LabelEncoder()\n",
    "df['response_to_consumer'] = le.fit_transform(df['response_to_consumer'])"
   ]
  },
  {
   "cell_type": "code",
   "execution_count": 35,
   "metadata": {
    "colab": {
     "base_uri": "https://localhost:8080/"
    },
    "id": "82078710",
    "outputId": "b0678528-a075-45fb-cc79-35ef2a7c4a0d"
   },
   "outputs": [
    {
     "name": "stdout",
     "output_type": "stream",
     "text": [
      "['Closed' 'Closed with explanation' 'Closed with monetary relief'\n",
      " 'Closed with non-monetary relief' 'Closed with relief'\n",
      " 'Closed without relief' 'In progress' 'Untimely response']\n"
     ]
    }
   ],
   "source": [
    "encoded_labels = le.inverse_transform([0, 1, 2, 3, 4, 5, 6, 7])\n",
    "print(encoded_labels)"
   ]
  },
  {
   "cell_type": "code",
   "execution_count": 36,
   "metadata": {
    "id": "ecdc945d"
   },
   "outputs": [],
   "source": [
    "cols_to_drop = ['date_received', 'date_sent', 'zip', 'sub_product', 'response'] # , 'issue' , 'company', 'state']\n",
    "dfc = df.copy()\n",
    "dfc.drop(columns=cols_to_drop, inplace=True)"
   ]
  },
  {
   "cell_type": "code",
   "execution_count": 37,
   "metadata": {
    "id": "fbe86f58"
   },
   "outputs": [],
   "source": [
    "dfc = pd.get_dummies(dfc)\n",
    "X = dfc.drop(columns='response_to_consumer')\n",
    "y = dfc['response_to_consumer']"
   ]
  },
  {
   "cell_type": "code",
   "execution_count": 38,
   "metadata": {
    "colab": {
     "base_uri": "https://localhost:8080/"
    },
    "id": "NBxBPgplYP_9",
    "outputId": "54c8e6cf-2681-45dc-b59f-c048a87b9a61"
   },
   "outputs": [
    {
     "data": {
      "text/plain": [
       "((670598, 118), (670598,))"
      ]
     },
     "execution_count": 38,
     "metadata": {},
     "output_type": "execute_result"
    }
   ],
   "source": [
    "X.shape, y.shape"
   ]
  },
  {
   "cell_type": "markdown",
   "metadata": {
    "id": "98UK4VRVEEYm"
   },
   "source": [
    "## Divide dataset into train, test"
   ]
  },
  {
   "cell_type": "code",
   "execution_count": 39,
   "metadata": {
    "id": "b3c70d35"
   },
   "outputs": [],
   "source": [
    "colab_drive_path = '/content/drive/MyDrive/'\n",
    "consumer_complaints_path = colab_drive_path+'Colab Notebooks/ml_project/consumer_complaints/'\n",
    "x_train, x_test, y_train, y_test = train_test_split(X, y, test_size=0.2, stratify=y)"
   ]
  },
  {
   "cell_type": "code",
   "execution_count": 43,
   "metadata": {
    "colab": {
     "base_uri": "https://localhost:8080/"
    },
    "id": "uV6djKc0SUtf",
    "outputId": "c8659398-1be2-407a-9a83-9a40b57fc2f7"
   },
   "outputs": [
    {
     "data": {
      "text/plain": [
       "((536478, 118), (536478, 1), (134120, 118), (134120, 1))"
      ]
     },
     "execution_count": 43,
     "metadata": {},
     "output_type": "execute_result"
    }
   ],
   "source": [
    "x_train.shape, y_train.shape, x_test.shape, y_test.shape"
   ]
  },
  {
   "cell_type": "code",
   "execution_count": 41,
   "metadata": {
    "id": "snM0mE99cI5h"
   },
   "outputs": [],
   "source": [
    "if not os.path.exists(consumer_complaints_path+'x_train_before_target_encoding.csv'):\n",
    "    x_train.to_csv(consumer_complaints_path+'x_train_before_target_encoding.csv')\n",
    "    y_train.to_csv(consumer_complaints_path+'y_train_before_target_encoding.csv')\n",
    "    x_test.to_csv(consumer_complaints_path+'x_test_before_target_encoding.csv')\n",
    "    y_test.to_csv(consumer_complaints_path+'y_test_before_target_encoding.csv')"
   ]
  },
  {
   "cell_type": "code",
   "execution_count": 42,
   "metadata": {
    "id": "R74slIVX3cgZ"
   },
   "outputs": [],
   "source": [
    "colab_drive_path = '/content/drive/MyDrive/'\n",
    "consumer_complaints_path = colab_drive_path+'Colab Notebooks/ml_project/consumer_complaints/'\n",
    "x_train = pd.read_csv(consumer_complaints_path+'x_train_before_target_encoding.csv', index_col=0)\n",
    "y_train = pd.read_csv(consumer_complaints_path+'y_train_before_target_encoding.csv', index_col=0)\n",
    "x_test = pd.read_csv(consumer_complaints_path+'x_test_before_target_encoding.csv', index_col=0)\n",
    "y_test = pd.read_csv(consumer_complaints_path+'y_test_before_target_encoding.csv', index_col=0)"
   ]
  },
  {
   "cell_type": "markdown",
   "metadata": {
    "id": "iDYO_pT2Yiwn"
   },
   "source": [
    "### before adding company and issues into data\n",
    "using lgb, f1_macro score : 0.354,         \n",
    "f1_weighted score : 0.67\n"
   ]
  },
  {
   "cell_type": "code",
   "execution_count": null,
   "metadata": {
    "id": "GY8ccK1vZYMQ",
    "outputId": "136a2830-a1c9-496b-c75c-45a798fc49a7"
   },
   "outputs": [
    {
     "name": "stdout",
     "output_type": "stream",
     "text": [
      "0.3534494942298807\n"
     ]
    }
   ],
   "source": [
    "lgb = lightgbm.LGBMClassifier()\n",
    "scores = cross_val_score(lgb, x_train, y_train, cv=5, scoring=\"f1_macro\")\n",
    "print(scores.mean())  # 0.3534494942298807"
   ]
  },
  {
   "cell_type": "markdown",
   "metadata": {
    "id": "jHoovHvUZYMQ"
   },
   "source": [
    "\n",
    "### after adding company and issues into data\n",
    "using lgb, f1_macro score : 0.43      "
   ]
  },
  {
   "cell_type": "code",
   "execution_count": null,
   "metadata": {
    "id": "s46iCoT0ZYMQ",
    "outputId": "5a07375b-ddff-403b-c004-6ccc746c1178"
   },
   "outputs": [
    {
     "name": "stdout",
     "output_type": "stream",
     "text": [
      "0.43010563938186036\n"
     ]
    }
   ],
   "source": [
    "## after feature engineering\n",
    "lgb = lightgbm.LGBMClassifier()\n",
    "scores = cross_val_score(lgb, x_train, y_train, cv=5, scoring=\"f1_macro\")\n",
    "print(scores.mean())"
   ]
  },
  {
   "cell_type": "code",
   "execution_count": null,
   "metadata": {
    "colab": {
     "base_uri": "https://localhost:8080/"
    },
    "id": "zjbOO4oQaAQt",
    "outputId": "408a52e5-4f3f-4cbd-94b6-3adc1f9a375c"
   },
   "outputs": [
    {
     "name": "stdout",
     "output_type": "stream",
     "text": [
      "0.43241362348115586\n",
      "time-taken:  233.3880 s\n"
     ]
    }
   ],
   "source": [
    "## after feature engineering\n",
    "start_time = time.time()\n",
    "lgb = lightgbm.LGBMClassifier()\n",
    "scores = cross_val_score(lgb, x_train, y_train, cv=5, scoring=\"f1_macro\")\n",
    "print(scores.mean())\n",
    "print(f'time-taken: {time.time()-start_time: 0.4f} s')"
   ]
  },
  {
   "cell_type": "code",
   "execution_count": null,
   "metadata": {
    "colab": {
     "base_uri": "https://localhost:8080/"
    },
    "id": "gG4bFPieZYMR",
    "outputId": "e63cd53d-fb08-4111-de65-d5ffd77eed70"
   },
   "outputs": [
    {
     "name": "stdout",
     "output_type": "stream",
     "text": [
      "time-taken: 69.0873 s\n"
     ]
    }
   ],
   "source": [
    "start_time = time.time()\n",
    "lgb.fit(x_train, y_train)\n",
    "y_pred = lgb.predict(x_train)\n",
    "conf_mat = confusion_matrix(y_train, y_pred, index=encoded_labels, columns=encoded_labels)\n",
    "print(f'time-taken: {time.time()-start_time:.4f} s')"
   ]
  },
  {
   "cell_type": "code",
   "execution_count": null,
   "metadata": {
    "colab": {
     "base_uri": "https://localhost:8080/",
     "height": 505
    },
    "id": "9cJpwPimZYMR",
    "outputId": "3528cc09-b6ba-4122-861d-42d93be08181"
   },
   "outputs": [
    {
     "data": {
      "text/plain": [
       "<matplotlib.axes._subplots.AxesSubplot at 0x7f1228c81e50>"
      ]
     },
     "execution_count": 121,
     "metadata": {},
     "output_type": "execute_result"
    },
    {
     "data": {
      "image/png": "[encoded data removed]",
      "text/plain": [
       "<Figure size 720x576 with 2 Axes>"
      ]
     },
     "metadata": {},
     "output_type": "display_data"
    }
   ],
   "source": [
    "sns.heatmap(conf_mat, annot=True, cmap='coolwarm', fmt='g')"
   ]
  },
  {
   "cell_type": "markdown",
   "metadata": {
    "id": "kf7xxer2ZvsX"
   },
   "source": [
    "## Target Encoding feature engineering"
   ]
  },
  {
   "cell_type": "code",
   "execution_count": null,
   "metadata": {
    "colab": {
     "base_uri": "https://localhost:8080/"
    },
    "id": "D78GNRIdlb3d",
    "outputId": "7a972026-8788-42ae-e0d0-80ddb4eeef56"
   },
   "outputs": [
    {
     "name": "stdout",
     "output_type": "stream",
     "text": [
      "time-taken:  1206.8394 s\n"
     ]
    }
   ],
   "source": [
    "start_time = time.time()\n",
    "mi_scores = mutual_info_classif(x_train, y_train)\n",
    "print(f'time-taken: {time.time()-start_time : 0.4f} s')"
   ]
  },
  {
   "cell_type": "code",
   "execution_count": null,
   "metadata": {
    "colab": {
     "base_uri": "https://localhost:8080/",
     "height": 505
    },
    "id": "twGqEtU4tYP9",
    "outputId": "a5a025b2-5ebe-49af-a899-6d0efe863d78"
   },
   "outputs": [
    {
     "data": {
      "text/plain": [
       "<matplotlib.axes._subplots.AxesSubplot at 0x7f61a4137e90>"
      ]
     },
     "execution_count": 25,
     "metadata": {},
     "output_type": "execute_result"
    },
    {
     "data": {
      "image/png": "[encoded data removed]",
      "text/plain": [
       "<Figure size 720x576 with 1 Axes>"
      ]
     },
     "metadata": {},
     "output_type": "display_data"
    }
   ],
   "source": [
    "mi_scores = pd.Series(data=mi_scores, index=x_train.columns.to_list())\n",
    "mi_scores.sort_values(ascending=False, inplace=True)\n",
    "k = 10\n",
    "sns.barplot(x=mi_scores.head(k).values, y=mi_scores.head(k).index)"
   ]
  },
  {
   "cell_type": "code",
   "execution_count": null,
   "metadata": {
    "colab": {
     "base_uri": "https://localhost:8080/"
    },
    "id": "nnWrZH2xaxwJ",
    "outputId": "35cacc27-7549-4a12-dd20-454ec46ffdc9"
   },
   "outputs": [
    {
     "name": "stdout",
     "output_type": "stream",
     "text": [
      "2015    135302\n",
      "2016    132494\n",
      "2014    122288\n",
      "2013     86655\n",
      "2012     57741\n",
      "2011      1998\n",
      "Name: date_received_year, dtype: int64\n",
      "1    522208\n",
      "0     14270\n",
      "Name: timely_response, dtype: int64\n",
      "-1    320490\n",
      " 3    107693\n",
      " 5     26147\n",
      " 0     25231\n",
      " 4     21398\n",
      " 6     13779\n",
      " 1     11336\n",
      " 2     10404\n",
      "Name: sub_issue, dtype: int64\n"
     ]
    }
   ],
   "source": [
    "cols = ['date_received_year', 'timely_response', 'sub_issue']\n",
    "for col in cols:\n",
    "    print(x_train[col].value_counts())"
   ]
  },
  {
   "cell_type": "code",
   "execution_count": null,
   "metadata": {
    "id": "f6cVPaGa1jvr"
   },
   "outputs": [],
   "source": [
    "# df_train = pd.concat([x_train, y_train], axis=1)\n",
    "# df_train.groupby(cols)[target].apply(len).head(60)"
   ]
  },
  {
   "cell_type": "code",
   "execution_count": null,
   "metadata": {
    "id": "Zh1BsoLhZ1df"
   },
   "outputs": [],
   "source": [
    "if not os.path.exists(consumer_complaints_path+'x_train_after_target_encoding.csv'):\n",
    "    df_train = pd.concat([x_train, y_train], axis=1)\n",
    "    df_target_mean = df_train.groupby(cols)[target].apply(lambda x: x.mean()).to_frame().reset_index()\n",
    "    df_target_mean.rename(columns={target : target+'_mean'}, inplace=True)\n",
    "    df_target_count_percent = df_train.groupby(cols)[target].apply(lambda x: len(x)*100/df_train.shape[0]).to_frame().reset_index()\n",
    "    df_target_count_percent.rename(columns={target : target+'_count_percent'}, inplace=True)\n",
    "\n",
    "    x_train = pd.merge(x_train, df_target_mean, how='left', left_on=cols, right_on=cols)\n",
    "    x_test = pd.merge(x_test, df_target_mean, how='left', left_on=cols, right_on=cols)\n",
    "    x_train = pd.merge(x_train, df_target_count_percent, how='left', left_on=cols, right_on=cols)\n",
    "    x_test = pd.merge(x_test, df_target_count_percent, how='left', left_on=cols, right_on=cols)"
   ]
  },
  {
   "cell_type": "code",
   "execution_count": null,
   "metadata": {
    "id": "2w73unpf2Nsp"
   },
   "outputs": [],
   "source": [
    "if not os.path.exists(consumer_complaints_path+'x_train_after_target_encoding.csv'):\n",
    "    x_train.to_csv(consumer_complaints_path+'x_train_after_target_encoding.csv')\n",
    "    y_train.to_csv(consumer_complaints_path+'y_train_after_target_encoding.csv')\n",
    "    x_test.to_csv(consumer_complaints_path+'x_test_after_target_encoding.csv')\n",
    "    y_test.to_csv(consumer_complaints_path+'y_test_after_target_encoding.csv')"
   ]
  },
  {
   "cell_type": "code",
   "execution_count": 44,
   "metadata": {
    "id": "1Z4uvy5c3yc3"
   },
   "outputs": [],
   "source": [
    "colab_drive_path = '/content/drive/MyDrive/'\n",
    "consumer_complaints_path = colab_drive_path+'Colab Notebooks/ml_project/consumer_complaints/'\n",
    "x_train = pd.read_csv(consumer_complaints_path+'x_train_after_target_encoding.csv', index_col=0)\n",
    "y_train = pd.read_csv(consumer_complaints_path+'y_train_after_target_encoding.csv', index_col=0)\n",
    "x_test = pd.read_csv(consumer_complaints_path+'x_test_after_target_encoding.csv', index_col=0)\n",
    "y_test = pd.read_csv(consumer_complaints_path+'y_test_after_target_encoding.csv', index_col=0)"
   ]
  },
  {
   "cell_type": "code",
   "execution_count": 45,
   "metadata": {
    "colab": {
     "base_uri": "https://localhost:8080/"
    },
    "id": "ds6ULnl52p0Q",
    "outputId": "dcf1440d-df5b-4fdb-9205-e6010ae0daa1"
   },
   "outputs": [
    {
     "data": {
      "text/plain": [
       "((536478, 120), (536478, 1), (134120, 120), (134120, 1))"
      ]
     },
     "execution_count": 45,
     "metadata": {},
     "output_type": "execute_result"
    }
   ],
   "source": [
    "x_train.shape, y_train.shape, x_test.shape, y_test.shape"
   ]
  },
  {
   "cell_type": "markdown",
   "metadata": {
    "id": "zo6YdMAc25lX"
   },
   "source": [
    "### f1_macro score using lightgbm after target encoding"
   ]
  },
  {
   "cell_type": "code",
   "execution_count": null,
   "metadata": {
    "colab": {
     "base_uri": "https://localhost:8080/"
    },
    "id": "mBaE3MAd23r_",
    "outputId": "b394de37-7605-4211-db9d-a5b498ae7069"
   },
   "outputs": [
    {
     "name": "stdout",
     "output_type": "stream",
     "text": [
      "0.43012237429017064\n",
      "time-taken:  252.4815 s\n"
     ]
    }
   ],
   "source": [
    "## after feature engineering\n",
    "start_time = time.time()\n",
    "lgb = lightgbm.LGBMClassifier()\n",
    "scores = cross_val_score(lgb, x_train, y_train, cv=5, scoring=\"f1_macro\")\n",
    "print(scores.mean())\n",
    "print(f'time-taken: {time.time()-start_time: 0.4f} s')"
   ]
  },
  {
   "cell_type": "code",
   "execution_count": null,
   "metadata": {
    "colab": {
     "base_uri": "https://localhost:8080/"
    },
    "id": "oTGw_r0f23sA",
    "outputId": "db8945da-092a-4160-94ac-5b46203a9dec"
   },
   "outputs": [
    {
     "name": "stdout",
     "output_type": "stream",
     "text": [
      "time-taken: 75.5951 s\n"
     ]
    }
   ],
   "source": [
    "start_time = time.time()\n",
    "lgb.fit(x_train, y_train)\n",
    "y_pred = lgb.predict(x_train)\n",
    "conf_mat = confusion_matrix(y_train, y_pred)\n",
    "conf_mat = pd.DataFrame(conf_mat, index=encoded_labels, columns=encoded_labels)\n",
    "print(f'time-taken: {time.time()-start_time:.4f} s')\n",
    "sns.heatmap(conf_mat, annot=True, cmap='Blues', fmt='g')"
   ]
  },
  {
   "cell_type": "code",
   "execution_count": null,
   "metadata": {
    "colab": {
     "base_uri": "https://localhost:8080/"
    },
    "id": "AHF8ynkZ4rkU",
    "outputId": "eabccd65-99ed-4e99-e1ab-a12be120a34e"
   },
   "outputs": [
    {
     "name": "stdout",
     "output_type": "stream",
     "text": [
      "0.4332445095038009\n",
      "time-taken:  64.2628 s\n"
     ]
    }
   ],
   "source": [
    "start_time = time.time()\n",
    "lgb = lightgbm.LGBMClassifier()\n",
    "lgb.fit(x_train, y_train)\n",
    "y_test_pred = lgb.predict(x_test)\n",
    "f1 = f1_score(y_test, y_test_pred, average='macro')\n",
    "print(f1)\n",
    "print(f'time-taken: {time.time()-start_time: 0.4f} s')"
   ]
  },
  {
   "cell_type": "code",
   "execution_count": null,
   "metadata": {
    "colab": {
     "base_uri": "https://localhost:8080/"
    },
    "id": "MX11rJwN7pXz",
    "outputId": "7c150880-c884-438e-eff8-0e989f15ca53"
   },
   "outputs": [
    {
     "name": "stdout",
     "output_type": "stream",
     "text": [
      "              precision    recall  f1-score   support\n",
      "\n",
      "           0       0.74      0.01      0.02      3098\n",
      "           1       0.78      0.98      0.87     98797\n",
      "           2       0.50      0.06      0.10      9034\n",
      "           3       0.60      0.11      0.19     16911\n",
      "           4       0.51      0.27      0.36      1060\n",
      "           5       0.77      0.91      0.84      3573\n",
      "           6       0.85      0.55      0.66       933\n",
      "           7       0.53      0.36      0.43       714\n",
      "\n",
      "    accuracy                           0.77    134120\n",
      "   macro avg       0.66      0.41      0.43    134120\n",
      "weighted avg       0.74      0.77      0.70    134120\n",
      "\n"
     ]
    }
   ],
   "source": [
    "print(classification_report(y_test, y_test_pred))"
   ]
  },
  {
   "cell_type": "code",
   "execution_count": null,
   "metadata": {
    "colab": {
     "base_uri": "https://localhost:8080/",
     "height": 707
    },
    "id": "Sw2bDNd-79cj",
    "outputId": "ad6f047c-71f4-461a-8edb-444a94cacf99"
   },
   "outputs": [
    {
     "data": {
      "text/plain": [
       "<matplotlib.axes._subplots.AxesSubplot at 0x7f12287d1b50>"
      ]
     },
     "execution_count": 172,
     "metadata": {},
     "output_type": "execute_result"
    },
    {
     "data": {
      "image/png": "[encoded data removed]",
      "text/plain": [
       "<Figure size 720x576 with 2 Axes>"
      ]
     },
     "metadata": {},
     "output_type": "display_data"
    }
   ],
   "source": [
    "conf_mat = confusion_matrix(y_test, y_test_pred) \n",
    "conf_mat = pd.DataFrame(conf_mat, index=encoded_labels, columns=encoded_labels)\n",
    "sns.heatmap(conf_mat, annot=True, cmap='Blues', fmt='g')"
   ]
  },
  {
   "cell_type": "markdown",
   "metadata": {
    "id": "98c73029"
   },
   "source": [
    "## Other Functions"
   ]
  },
  {
   "cell_type": "code",
   "execution_count": 47,
   "metadata": {
    "id": "c42493cd"
   },
   "outputs": [],
   "source": [
    "def get_ann_model():\n",
    "    model = Sequential([\n",
    "    Dense(128, activation='relu', input_shape=(120,)),\n",
    "    Dense(64, activation='relu'),\n",
    "    Dense(32, activation='relu'),\n",
    "    Dense(8, activation='softmax')\n",
    "    ])\n",
    "    model.compile(loss='sparse_categorical_crossentropy', optimizer='adam', metrics=['accuracy'])\n",
    "    return model\n",
    "\n",
    "def get_value_counts(y):\n",
    "    y_classes, y_counts = np.unique(y, return_counts=True)\n",
    "    return {key:val for (key, val) in zip(y_classes, y_counts)}\n",
    "\n",
    "def get_sns_heatmap(conf_mat, name, balance_algo, f1, encoded_labels=encoded_labels):\n",
    "    heat_dir = consumer_complaints_path+'heat_plots/'\n",
    "    if not os.path.isdir(heat_dir):\n",
    "        os.mkdir(heat_dir)\n",
    "    conf_mat = pd.DataFrame(conf_mat, index=encoded_labels, columns=encoded_labels)\n",
    "    heat_plot = sns.heatmap(conf_mat, annot=True, cmap='Blues', fmt='g')\n",
    "    fig = heat_plot.get_figure()\n",
    "    fig.suptitle(f'f1-macro: {f1: 0.3f}')\n",
    "    fig.savefig(heat_dir+name+'_'+balance_algo+'.png')\n",
    "    return heat_plot\n",
    "\n",
    "def model_name(model):\n",
    "    return model.__class__.__name__\n",
    "\n",
    "def get_balance_algo(get_func):\n",
    "    if get_func == get_f1_score:\n",
    "        return 'baseline'\n",
    "    elif get_func == get_f1_confusion_mat_SMOTE:\n",
    "        return 'SMOTE'\n",
    "    elif get_func == get_f1_confusion_mat_custom_SMOTETomek:\n",
    "        return 'custom_SMOTETomek'\n",
    "    elif get_func == get_f1_confusion_mat_hyperparameter_class_wt:\n",
    "        return 'class_weight'\n",
    "    else:\n",
    "        raise KeyError(f'{get_func} does not exist')\n",
    "\n",
    "def model_f1_conf_mat(model, x_test=x_test, y_test=y_test):\n",
    "    if model_name(model) != 'Sequential':\n",
    "        y_test_pred = model.predict(x_test)\n",
    "    else:\n",
    "        y_test_pred = np.argmax(model.predict(x_test), axis=1)\n",
    "    f1 = f1_score(y_test, y_test_pred, average='macro')\n",
    "    conf_mat = confusion_matrix(y_test, y_test_pred)\n",
    "    return f1, conf_mat"
   ]
  },
  {
   "cell_type": "markdown",
   "metadata": {
    "id": "84aaeb5d"
   },
   "source": [
    "## create df_result to save results     \n",
    "rows - different models <- lightgbm, xgboost, SVC, ANN, KNN, BalancedRandomForrest     \n",
    "columns - 'baseline', 'SMOTE', 'custom_SMOTETomek', 'class_weight'"
   ]
  },
  {
   "cell_type": "code",
   "execution_count": 48,
   "metadata": {
    "id": "318d7db1"
   },
   "outputs": [],
   "source": [
    "models = [lightgbm.LGBMClassifier(), xgboost.XGBClassifier(eval_metric='mlogloss'), SVC(), get_ann_model(), KNeighborsClassifier()]\n",
    "index = [model_name(model) for model in models]\n",
    "columns = ['baseline', 'SMOTE', 'custom_SMOTETomek', 'class_weight']"
   ]
  },
  {
   "cell_type": "code",
   "execution_count": 49,
   "metadata": {
    "id": "ab19fd46"
   },
   "outputs": [],
   "source": [
    "file_result = consumer_complaints_path+'df_result.csv'\n",
    "if not os.path.exists(file_result):\n",
    "    nrows = len(index)\n",
    "    ncols = len(columns)\n",
    "    data = [['NA']*ncols]*nrows\n",
    "    df_result = pd.DataFrame(data=data, index=index, columns=columns)\n",
    "    df_result.to_csv(file_result)"
   ]
  },
  {
   "cell_type": "code",
   "execution_count": 50,
   "metadata": {
    "id": "bGSVgBqxTyuw"
   },
   "outputs": [],
   "source": [
    "file_train_time = consumer_complaints_path + 'df_train_time.csv'\n",
    "if not os.path.exists(file_train_time):\n",
    "    nrows = len(index)\n",
    "    ncols = len(columns)\n",
    "    data = [['NA']*ncols]*nrows\n",
    "    df_time = pd.DataFrame(data=data, index=index, columns=columns)\n",
    "    df_time.to_csv(file_train_time)"
   ]
  },
  {
   "cell_type": "code",
   "execution_count": 51,
   "metadata": {
    "id": "7YkXBcD-VyNi"
   },
   "outputs": [],
   "source": [
    "def get_write_result(model, get_func):\n",
    "    name = model_name(model)\n",
    "    balance_algo = get_balance_algo(get_func)\n",
    "    start_time = time.time()\n",
    "    print(name)\n",
    "    f1, conf_mat = get_func(model)\n",
    "    train_time = (time.time()-start_time)/60\n",
    "    print(f'train-time: {train_time : 0.2f} min')\n",
    "    print('f1_macro:', f1)\n",
    "    get_sns_heatmap(conf_mat)\n",
    "    plt.show() # added to plot each sns plot separately if called upon multiple models\n",
    "    df_result.loc[name, balance_algo] = f1\n",
    "    df_result.to_csv(file_result)\n",
    "    df_time.loc[name, balance_algo] = train_time\n",
    "    df_time.to_csv(file_result)"
   ]
  },
  {
   "cell_type": "code",
   "execution_count": 53,
   "metadata": {
    "colab": {
     "base_uri": "https://localhost:8080/",
     "height": 206
    },
    "id": "T5hrwm1M7iPK",
    "outputId": "47f9d828-e29c-4a4d-9474-abd7e446976a"
   },
   "outputs": [
    {
     "data": {
      "text/html": [
       "<div>\n",
       "<style scoped>\n",
       "    .dataframe tbody tr th:only-of-type {\n",
       "        vertical-align: middle;\n",
       "    }\n",
       "\n",
       "    .dataframe tbody tr th {\n",
       "        vertical-align: top;\n",
       "    }\n",
       "\n",
       "    .dataframe thead th {\n",
       "        text-align: right;\n",
       "    }\n",
       "</style>\n",
       "<table border=\"1\" class=\"dataframe\">\n",
       "  <thead>\n",
       "    <tr style=\"text-align: right;\">\n",
       "      <th></th>\n",
       "      <th>baseline</th>\n",
       "      <th>SMOTE</th>\n",
       "      <th>custom_SMOTETomek</th>\n",
       "      <th>class_weight</th>\n",
       "    </tr>\n",
       "  </thead>\n",
       "  <tbody>\n",
       "    <tr>\n",
       "      <th>LGBMClassifier</th>\n",
       "      <td>NA</td>\n",
       "      <td>NA</td>\n",
       "      <td>NA</td>\n",
       "      <td>NA</td>\n",
       "    </tr>\n",
       "    <tr>\n",
       "      <th>XGBClassifier</th>\n",
       "      <td>NA</td>\n",
       "      <td>NA</td>\n",
       "      <td>NA</td>\n",
       "      <td>NA</td>\n",
       "    </tr>\n",
       "    <tr>\n",
       "      <th>SVC</th>\n",
       "      <td>NA</td>\n",
       "      <td>NA</td>\n",
       "      <td>NA</td>\n",
       "      <td>NA</td>\n",
       "    </tr>\n",
       "    <tr>\n",
       "      <th>Sequential</th>\n",
       "      <td>NA</td>\n",
       "      <td>NA</td>\n",
       "      <td>NA</td>\n",
       "      <td>NA</td>\n",
       "    </tr>\n",
       "    <tr>\n",
       "      <th>KNeighborsClassifier</th>\n",
       "      <td>NA</td>\n",
       "      <td>NA</td>\n",
       "      <td>NA</td>\n",
       "      <td>NA</td>\n",
       "    </tr>\n",
       "  </tbody>\n",
       "</table>\n",
       "</div>"
      ],
      "text/plain": [
       "                     baseline SMOTE custom_SMOTETomek class_weight\n",
       "LGBMClassifier             NA    NA                NA           NA\n",
       "XGBClassifier              NA    NA                NA           NA\n",
       "SVC                        NA    NA                NA           NA\n",
       "Sequential                 NA    NA                NA           NA\n",
       "KNeighborsClassifier       NA    NA                NA           NA"
      ]
     },
     "execution_count": 53,
     "metadata": {},
     "output_type": "execute_result"
    }
   ],
   "source": [
    "df_result"
   ]
  },
  {
   "cell_type": "code",
   "execution_count": 54,
   "metadata": {
    "colab": {
     "base_uri": "https://localhost:8080/",
     "height": 206
    },
    "id": "ZcRw9GJZ9tKk",
    "outputId": "cf1c9919-d3fd-4975-b74d-69ce9a5f7e58"
   },
   "outputs": [
    {
     "data": {
      "text/html": [
       "<div>\n",
       "<style scoped>\n",
       "    .dataframe tbody tr th:only-of-type {\n",
       "        vertical-align: middle;\n",
       "    }\n",
       "\n",
       "    .dataframe tbody tr th {\n",
       "        vertical-align: top;\n",
       "    }\n",
       "\n",
       "    .dataframe thead th {\n",
       "        text-align: right;\n",
       "    }\n",
       "</style>\n",
       "<table border=\"1\" class=\"dataframe\">\n",
       "  <thead>\n",
       "    <tr style=\"text-align: right;\">\n",
       "      <th></th>\n",
       "      <th>baseline</th>\n",
       "      <th>SMOTE</th>\n",
       "      <th>custom_SMOTETomek</th>\n",
       "      <th>class_weight</th>\n",
       "    </tr>\n",
       "  </thead>\n",
       "  <tbody>\n",
       "    <tr>\n",
       "      <th>LGBMClassifier</th>\n",
       "      <td>NA</td>\n",
       "      <td>NA</td>\n",
       "      <td>NA</td>\n",
       "      <td>NA</td>\n",
       "    </tr>\n",
       "    <tr>\n",
       "      <th>XGBClassifier</th>\n",
       "      <td>NA</td>\n",
       "      <td>NA</td>\n",
       "      <td>NA</td>\n",
       "      <td>NA</td>\n",
       "    </tr>\n",
       "    <tr>\n",
       "      <th>SVC</th>\n",
       "      <td>NA</td>\n",
       "      <td>NA</td>\n",
       "      <td>NA</td>\n",
       "      <td>NA</td>\n",
       "    </tr>\n",
       "    <tr>\n",
       "      <th>Sequential</th>\n",
       "      <td>NA</td>\n",
       "      <td>NA</td>\n",
       "      <td>NA</td>\n",
       "      <td>NA</td>\n",
       "    </tr>\n",
       "    <tr>\n",
       "      <th>KNeighborsClassifier</th>\n",
       "      <td>NA</td>\n",
       "      <td>NA</td>\n",
       "      <td>NA</td>\n",
       "      <td>NA</td>\n",
       "    </tr>\n",
       "  </tbody>\n",
       "</table>\n",
       "</div>"
      ],
      "text/plain": [
       "                     baseline SMOTE custom_SMOTETomek class_weight\n",
       "LGBMClassifier             NA    NA                NA           NA\n",
       "XGBClassifier              NA    NA                NA           NA\n",
       "SVC                        NA    NA                NA           NA\n",
       "Sequential                 NA    NA                NA           NA\n",
       "KNeighborsClassifier       NA    NA                NA           NA"
      ]
     },
     "execution_count": 54,
     "metadata": {},
     "output_type": "execute_result"
    }
   ],
   "source": [
    "df_time"
   ]
  },
  {
   "cell_type": "markdown",
   "metadata": {
    "id": "5b1fe770"
   },
   "source": [
    "## 1. F1 score without using over-sampling SMOTE (baseline)"
   ]
  },
  {
   "cell_type": "code",
   "execution_count": 55,
   "metadata": {
    "id": "3c79da71"
   },
   "outputs": [],
   "source": [
    "def get_f1_score(model = lightgbm.LGBMClassifier(), x_train=x_train, y_train=y_train, x_test=x_test, y_test=y_test):\n",
    "    if model_name(model) != 'Sequential':\n",
    "        model.fit(x_train, y_train)\n",
    "    else:\n",
    "        early_stopping = tf.keras.callbacks.EarlyStopping(min_delta=1e-5, patience=5)\n",
    "        model.fit(x_train, y_train, validation_split=0.3, epochs=80, \n",
    "                  callbacks=[early_stopping, TqdmCallback(verbose=0)], verbose=0)\n",
    "    return model_f1_conf_mat(model)"
   ]
  },
  {
   "cell_type": "code",
   "execution_count": null,
   "metadata": {
    "colab": {
     "base_uri": "https://localhost:8080/"
    },
    "collapsed": true,
    "id": "d2984784",
    "outputId": "1e1154a0-d6b5-40e9-e16f-e872d4b5958c"
   },
   "outputs": [
    {
     "name": "stdout",
     "output_type": "stream",
     "text": [
      "LGBMClassifier\n",
      "train-time:  0.95 min\n",
      "f1_macro: 0.4332445095038009\n",
      "test-time:  1.02 min\n",
      "XGBClassifier\n",
      "train-time:  17.68 min\n",
      "f1_macro: 0.3191974569298066\n",
      "test-time:  17.75 min\n",
      "SVC\n"
     ]
    }
   ],
   "source": [
    "for model in models:\n",
    "    get_write_result(model, get_f1_score)"
   ]
  },
  {
   "cell_type": "code",
   "execution_count": null,
   "metadata": {
    "colab": {
     "base_uri": "https://localhost:8080/",
     "height": 523
    },
    "id": "c715aa56",
    "outputId": "727279fe-26fc-4b2b-b77f-34ab7636a5c8"
   },
   "outputs": [
    {
     "name": "stdout",
     "output_type": "stream",
     "text": [
      "LGBMClassifier\n",
      "f1_macro: 0.4332445095038009\n"
     ]
    },
    {
     "data": {
      "image/png": "[encoded data removed]",
      "text/plain": [
       "<Figure size 720x576 with 2 Axes>"
      ]
     },
     "metadata": {},
     "output_type": "display_data"
    }
   ],
   "source": [
    "model = lightgbm.LGBMClassifier()\n",
    "get_write_result(model, get_f1_score)"
   ]
  },
  {
   "cell_type": "code",
   "execution_count": null,
   "metadata": {
    "colab": {
     "base_uri": "https://localhost:8080/",
     "height": 523
    },
    "id": "CxTPr64z9tlI",
    "outputId": "7ce5a491-41ac-4045-d9bf-64695767d20b"
   },
   "outputs": [
    {
     "name": "stdout",
     "output_type": "stream",
     "text": [
      "XGBClassifier\n",
      "f1_macro: 0.3191974569298066\n"
     ]
    },
    {
     "data": {
      "image/png": "[encoded data removed]",
      "text/plain": [
       "<Figure size 720x576 with 2 Axes>"
      ]
     },
     "metadata": {},
     "output_type": "display_data"
    }
   ],
   "source": [
    "model = xgboost.XGBClassifier()\n",
    "get_write_result(model, get_f1_score)"
   ]
  },
  {
   "cell_type": "code",
   "execution_count": null,
   "metadata": {
    "colab": {
     "base_uri": "https://localhost:8080/",
     "height": 238
    },
    "id": "kFwD98nE9uWA",
    "outputId": "c0ee9662-4aba-4419-c842-b4a914b10daa"
   },
   "outputs": [
    {
     "data": {
      "text/html": [
       "<div>\n",
       "<style scoped>\n",
       "    .dataframe tbody tr th:only-of-type {\n",
       "        vertical-align: middle;\n",
       "    }\n",
       "\n",
       "    .dataframe tbody tr th {\n",
       "        vertical-align: top;\n",
       "    }\n",
       "\n",
       "    .dataframe thead th {\n",
       "        text-align: right;\n",
       "    }\n",
       "</style>\n",
       "<table border=\"1\" class=\"dataframe\">\n",
       "  <thead>\n",
       "    <tr style=\"text-align: right;\">\n",
       "      <th></th>\n",
       "      <th>baseline</th>\n",
       "      <th>SMOTE</th>\n",
       "      <th>custom_SMOTETomek</th>\n",
       "      <th>class_weight</th>\n",
       "    </tr>\n",
       "  </thead>\n",
       "  <tbody>\n",
       "    <tr>\n",
       "      <th>LGBMClassifier</th>\n",
       "      <td>0.433</td>\n",
       "      <td>NA</td>\n",
       "      <td>NA</td>\n",
       "      <td>NA</td>\n",
       "    </tr>\n",
       "    <tr>\n",
       "      <th>XGBClassifier</th>\n",
       "      <td>0.319</td>\n",
       "      <td>NA</td>\n",
       "      <td>NA</td>\n",
       "      <td>NA</td>\n",
       "    </tr>\n",
       "    <tr>\n",
       "      <th>SVC</th>\n",
       "      <td>NA</td>\n",
       "      <td>NA</td>\n",
       "      <td>NA</td>\n",
       "      <td>NA</td>\n",
       "    </tr>\n",
       "    <tr>\n",
       "      <th>Sequential</th>\n",
       "      <td>NA</td>\n",
       "      <td>NA</td>\n",
       "      <td>NA</td>\n",
       "      <td>NA</td>\n",
       "    </tr>\n",
       "    <tr>\n",
       "      <th>KNeighborsClassifier</th>\n",
       "      <td>NA</td>\n",
       "      <td>NA</td>\n",
       "      <td>NA</td>\n",
       "      <td>NA</td>\n",
       "    </tr>\n",
       "    <tr>\n",
       "      <th>BalancedRandomForestClassifier</th>\n",
       "      <td>NA</td>\n",
       "      <td>NA</td>\n",
       "      <td>NA</td>\n",
       "      <td>NA</td>\n",
       "    </tr>\n",
       "  </tbody>\n",
       "</table>\n",
       "</div>"
      ],
      "text/plain": [
       "                               baseline SMOTE custom_SMOTETomek class_weight\n",
       "LGBMClassifier                    0.433    NA                NA           NA\n",
       "XGBClassifier                     0.319    NA                NA           NA\n",
       "SVC                                  NA    NA                NA           NA\n",
       "Sequential                           NA    NA                NA           NA\n",
       "KNeighborsClassifier                 NA    NA                NA           NA\n",
       "BalancedRandomForestClassifier       NA    NA                NA           NA"
      ]
     },
     "execution_count": 182,
     "metadata": {},
     "output_type": "execute_result"
    }
   ],
   "source": [
    "df_result"
   ]
  },
  {
   "cell_type": "markdown",
   "metadata": {
    "id": "14f594b9"
   },
   "source": [
    "## 2. F1 score using over-sampling SMOTE"
   ]
  },
  {
   "cell_type": "code",
   "execution_count": null,
   "metadata": {
    "id": "ce4d3bd7"
   },
   "outputs": [],
   "source": [
    "def get_f1_confusion_mat_SMOTE(model, x_train=x_train, y_train=y_train, x_test=x_test, y_test=y_test):\n",
    "    smt = over_sampling.SMOTE(random_state=7)\n",
    "    X_smt, y_smt = smt.fit_resample(x_train, y_train)\n",
    "    if model_name(model) != 'Sequential':\n",
    "        model.fit(X_smt, y_smt)\n",
    "    else:\n",
    "        early_stopping = tf.keras.callbacks.EarlyStopping(min_delta=1e-5, patience=5)\n",
    "        model.fit(X_smt, y_smt, validation_split=0.3, epochs=80, \n",
    "                  callbacks=[early_stopping, TqdmCallback(verbose=0)], verbose=0)\n",
    "    return model_f1_conf_mat(model)"
   ]
  },
  {
   "cell_type": "code",
   "execution_count": null,
   "metadata": {
    "colab": {
     "base_uri": "https://localhost:8080/",
     "height": 468
    },
    "id": "f81934b6",
    "outputId": "3e2af25d-ed9f-45af-fcbd-87d4125988a3",
    "scrolled": true
   },
   "outputs": [
    {
     "name": "stdout",
     "output_type": "stream",
     "text": [
      "LGBMClassifier\n",
      "f1_macro: 0.7751585093669111\n",
      "XGBClassifier\n"
     ]
    },
    {
     "ename": "ValueError",
     "evalue": "ignored",
     "output_type": "error",
     "traceback": [
      "\u001b[0;31m---------------------------------------------------------------------------\u001b[0m",
      "\u001b[0;31mValueError\u001b[0m                                Traceback (most recent call last)",
      "\u001b[0;32m<ipython-input-59-3b82b30c6229>\u001b[0m in \u001b[0;36m<module>\u001b[0;34m()\u001b[0m\n\u001b[1;32m      2\u001b[0m  SVC(), get_ann_model(), KNeighborsClassifier()]\n\u001b[1;32m      3\u001b[0m \u001b[0;32mfor\u001b[0m \u001b[0mmodel\u001b[0m \u001b[0;32min\u001b[0m \u001b[0mmodels\u001b[0m\u001b[0;34m:\u001b[0m\u001b[0;34m\u001b[0m\u001b[0;34m\u001b[0m\u001b[0m\n\u001b[0;32m----> 4\u001b[0;31m     \u001b[0mget_write_result\u001b[0m\u001b[0;34m(\u001b[0m\u001b[0mmodel\u001b[0m\u001b[0;34m,\u001b[0m \u001b[0mget_f1_confusion_mat_SMOTE\u001b[0m\u001b[0;34m)\u001b[0m\u001b[0;34m\u001b[0m\u001b[0;34m\u001b[0m\u001b[0m\n\u001b[0m",
      "\u001b[0;32m<ipython-input-54-e5ecd86a267a>\u001b[0m in \u001b[0;36mget_write_result\u001b[0;34m(model, get_func)\u001b[0m\n\u001b[1;32m     42\u001b[0m     \u001b[0mname\u001b[0m \u001b[0;34m=\u001b[0m \u001b[0mmodel_name\u001b[0m\u001b[0;34m(\u001b[0m\u001b[0mmodel\u001b[0m\u001b[0;34m)\u001b[0m\u001b[0;34m\u001b[0m\u001b[0;34m\u001b[0m\u001b[0m\n\u001b[1;32m     43\u001b[0m     \u001b[0mprint\u001b[0m\u001b[0;34m(\u001b[0m\u001b[0mname\u001b[0m\u001b[0;34m)\u001b[0m\u001b[0;34m\u001b[0m\u001b[0;34m\u001b[0m\u001b[0m\n\u001b[0;32m---> 44\u001b[0;31m     \u001b[0mf1\u001b[0m\u001b[0;34m,\u001b[0m \u001b[0mconf_mat\u001b[0m \u001b[0;34m=\u001b[0m \u001b[0mget_func\u001b[0m\u001b[0;34m(\u001b[0m\u001b[0mmodel\u001b[0m\u001b[0;34m)\u001b[0m\u001b[0;34m\u001b[0m\u001b[0;34m\u001b[0m\u001b[0m\n\u001b[0m\u001b[1;32m     45\u001b[0m     \u001b[0mprint\u001b[0m\u001b[0;34m(\u001b[0m\u001b[0;34m'f1_macro:'\u001b[0m\u001b[0;34m,\u001b[0m \u001b[0mf1\u001b[0m\u001b[0;34m)\u001b[0m\u001b[0;34m\u001b[0m\u001b[0;34m\u001b[0m\u001b[0m\n\u001b[1;32m     46\u001b[0m     \u001b[0mget_sns_heatmap\u001b[0m\u001b[0;34m(\u001b[0m\u001b[0mconf_mat\u001b[0m\u001b[0;34m)\u001b[0m\u001b[0;34m\u001b[0m\u001b[0;34m\u001b[0m\u001b[0m\n",
      "\u001b[0;32m<ipython-input-58-409413202e84>\u001b[0m in \u001b[0;36mget_f1_confusion_mat_SMOTE\u001b[0;34m(model, x_train, y_train, x_test, y_test)\u001b[0m\n\u001b[1;32m      8\u001b[0m         model.fit(X_smt, y_smt, validation_split=0.3, epochs=80, \n\u001b[1;32m      9\u001b[0m                   callbacks=[early_stopping, TqdmCallback(verbose=0)], verbose=0)\n\u001b[0;32m---> 10\u001b[0;31m     \u001b[0;32mreturn\u001b[0m \u001b[0mmodel_f1_conf_mat\u001b[0m\u001b[0;34m(\u001b[0m\u001b[0mmodel\u001b[0m\u001b[0;34m)\u001b[0m\u001b[0;34m\u001b[0m\u001b[0;34m\u001b[0m\u001b[0m\n\u001b[0m",
      "\u001b[0;32m<ipython-input-54-e5ecd86a267a>\u001b[0m in \u001b[0;36mmodel_f1_conf_mat\u001b[0;34m(model, x_test, y_test)\u001b[0m\n\u001b[1;32m     32\u001b[0m \u001b[0;32mdef\u001b[0m \u001b[0mmodel_f1_conf_mat\u001b[0m\u001b[0;34m(\u001b[0m\u001b[0mmodel\u001b[0m\u001b[0;34m,\u001b[0m \u001b[0mx_test\u001b[0m\u001b[0;34m=\u001b[0m\u001b[0mx_test\u001b[0m\u001b[0;34m,\u001b[0m \u001b[0my_test\u001b[0m\u001b[0;34m=\u001b[0m\u001b[0my_test\u001b[0m\u001b[0;34m)\u001b[0m\u001b[0;34m:\u001b[0m\u001b[0;34m\u001b[0m\u001b[0;34m\u001b[0m\u001b[0m\n\u001b[1;32m     33\u001b[0m     \u001b[0;32mif\u001b[0m \u001b[0mmodel_name\u001b[0m\u001b[0;34m(\u001b[0m\u001b[0mmodel\u001b[0m\u001b[0;34m)\u001b[0m \u001b[0;34m!=\u001b[0m \u001b[0;34m'Sequential'\u001b[0m\u001b[0;34m:\u001b[0m\u001b[0;34m\u001b[0m\u001b[0;34m\u001b[0m\u001b[0m\n\u001b[0;32m---> 34\u001b[0;31m         \u001b[0my_test_pred\u001b[0m \u001b[0;34m=\u001b[0m \u001b[0mmodel\u001b[0m\u001b[0;34m.\u001b[0m\u001b[0mpredict\u001b[0m\u001b[0;34m(\u001b[0m\u001b[0mx_test\u001b[0m\u001b[0;34m)\u001b[0m\u001b[0;34m\u001b[0m\u001b[0;34m\u001b[0m\u001b[0m\n\u001b[0m\u001b[1;32m     35\u001b[0m     \u001b[0;32melse\u001b[0m\u001b[0;34m:\u001b[0m\u001b[0;34m\u001b[0m\u001b[0;34m\u001b[0m\u001b[0m\n\u001b[1;32m     36\u001b[0m         \u001b[0my_test_pred\u001b[0m \u001b[0;34m=\u001b[0m \u001b[0mnp\u001b[0m\u001b[0;34m.\u001b[0m\u001b[0margmax\u001b[0m\u001b[0;34m(\u001b[0m\u001b[0mmodel\u001b[0m\u001b[0;34m.\u001b[0m\u001b[0mpredict\u001b[0m\u001b[0;34m(\u001b[0m\u001b[0mx_test\u001b[0m\u001b[0;34m)\u001b[0m\u001b[0;34m,\u001b[0m \u001b[0maxis\u001b[0m\u001b[0;34m=\u001b[0m\u001b[0;36m1\u001b[0m\u001b[0;34m)\u001b[0m\u001b[0;34m\u001b[0m\u001b[0;34m\u001b[0m\u001b[0m\n",
      "\u001b[0;32m/usr/local/lib/python3.7/dist-packages/xgboost/sklearn.py\u001b[0m in \u001b[0;36mpredict\u001b[0;34m(self, data, output_margin, ntree_limit, validate_features)\u001b[0m\n\u001b[1;32m    789\u001b[0m                                                  \u001b[0moutput_margin\u001b[0m\u001b[0;34m=\u001b[0m\u001b[0moutput_margin\u001b[0m\u001b[0;34m,\u001b[0m\u001b[0;34m\u001b[0m\u001b[0;34m\u001b[0m\u001b[0m\n\u001b[1;32m    790\u001b[0m                                                  \u001b[0mntree_limit\u001b[0m\u001b[0;34m=\u001b[0m\u001b[0mntree_limit\u001b[0m\u001b[0;34m,\u001b[0m\u001b[0;34m\u001b[0m\u001b[0;34m\u001b[0m\u001b[0m\n\u001b[0;32m--> 791\u001b[0;31m                                                  validate_features=validate_features)\n\u001b[0m\u001b[1;32m    792\u001b[0m         \u001b[0;32mif\u001b[0m \u001b[0moutput_margin\u001b[0m\u001b[0;34m:\u001b[0m\u001b[0;34m\u001b[0m\u001b[0;34m\u001b[0m\u001b[0m\n\u001b[1;32m    793\u001b[0m             \u001b[0;31m# If output_margin is active, simply return the scores\u001b[0m\u001b[0;34m\u001b[0m\u001b[0;34m\u001b[0m\u001b[0;34m\u001b[0m\u001b[0m\n",
      "\u001b[0;32m/usr/local/lib/python3.7/dist-packages/xgboost/core.py\u001b[0m in \u001b[0;36mpredict\u001b[0;34m(self, data, output_margin, ntree_limit, pred_leaf, pred_contribs, approx_contribs, pred_interactions, validate_features)\u001b[0m\n\u001b[1;32m   1282\u001b[0m \u001b[0;34m\u001b[0m\u001b[0m\n\u001b[1;32m   1283\u001b[0m         \u001b[0;32mif\u001b[0m \u001b[0mvalidate_features\u001b[0m\u001b[0;34m:\u001b[0m\u001b[0;34m\u001b[0m\u001b[0;34m\u001b[0m\u001b[0m\n\u001b[0;32m-> 1284\u001b[0;31m             \u001b[0mself\u001b[0m\u001b[0;34m.\u001b[0m\u001b[0m_validate_features\u001b[0m\u001b[0;34m(\u001b[0m\u001b[0mdata\u001b[0m\u001b[0;34m)\u001b[0m\u001b[0;34m\u001b[0m\u001b[0;34m\u001b[0m\u001b[0m\n\u001b[0m\u001b[1;32m   1285\u001b[0m \u001b[0;34m\u001b[0m\u001b[0m\n\u001b[1;32m   1286\u001b[0m         \u001b[0mlength\u001b[0m \u001b[0;34m=\u001b[0m \u001b[0mc_bst_ulong\u001b[0m\u001b[0;34m(\u001b[0m\u001b[0;34m)\u001b[0m\u001b[0;34m\u001b[0m\u001b[0;34m\u001b[0m\u001b[0m\n",
      "\u001b[0;32m/usr/local/lib/python3.7/dist-packages/xgboost/core.py\u001b[0m in \u001b[0;36m_validate_features\u001b[0;34m(self, data)\u001b[0m\n\u001b[1;32m   1688\u001b[0m \u001b[0;34m\u001b[0m\u001b[0m\n\u001b[1;32m   1689\u001b[0m                 raise ValueError(msg.format(self.feature_names,\n\u001b[0;32m-> 1690\u001b[0;31m                                             data.feature_names))\n\u001b[0m\u001b[1;32m   1691\u001b[0m \u001b[0;34m\u001b[0m\u001b[0m\n\u001b[1;32m   1692\u001b[0m     \u001b[0;32mdef\u001b[0m \u001b[0mget_split_value_histogram\u001b[0m\u001b[0;34m(\u001b[0m\u001b[0mself\u001b[0m\u001b[0;34m,\u001b[0m \u001b[0mfeature\u001b[0m\u001b[0;34m,\u001b[0m \u001b[0mfmap\u001b[0m\u001b[0;34m=\u001b[0m\u001b[0;34m''\u001b[0m\u001b[0;34m,\u001b[0m \u001b[0mbins\u001b[0m\u001b[0;34m=\u001b[0m\u001b[0;32mNone\u001b[0m\u001b[0;34m,\u001b[0m \u001b[0mas_pandas\u001b[0m\u001b[0;34m=\u001b[0m\u001b[0;32mTrue\u001b[0m\u001b[0;34m)\u001b[0m\u001b[0;34m:\u001b[0m\u001b[0;34m\u001b[0m\u001b[0;34m\u001b[0m\u001b[0m\n",
      "\u001b[0;31mValueError\u001b[0m: feature_names mismatch: ['f0', 'f1', 'f2', 'f3', 'f4', 'f5', 'f6', 'f7', 'f8', 'f9', 'f10', 'f11', 'f12', 'f13', 'f14', 'f15', 'f16', 'f17', 'f18', 'f19', 'f20', 'f21', 'f22'] ['f0', 'f1', 'f2', 'f3', 'f4', 'f5', 'f6', 'f7', 'f8', 'f9', 'f10', 'f11', 'f12', 'f13', 'f14', 'f15', 'f16', 'f17', 'f18', 'f19', 'c_a', 'c_b', 'c_c']\nexpected f22, f20, f21 in input data\ntraining data did not have the following fields: c_a, c_b, c_c"
     ]
    }
   ],
   "source": [
    "for model in models:\n",
    "    get_write_result(model, get_f1_confusion_mat_SMOTE)"
   ]
  },
  {
   "cell_type": "code",
   "execution_count": null,
   "metadata": {
    "id": "z2niMshzRtg6"
   },
   "outputs": [],
   "source": []
  },
  {
   "cell_type": "markdown",
   "metadata": {
    "id": "eff8fd5d"
   },
   "source": [
    "## 3. F1 score using over-sampling SMOTETomek"
   ]
  },
  {
   "cell_type": "code",
   "execution_count": null,
   "metadata": {
    "id": "73796218"
   },
   "outputs": [],
   "source": [
    "def get_f1_confusion_mat_custom_SMOTETomek(model, x_train=x_train, y_train=y_train, x_test=x_test, y_test=y_test):\n",
    "    sampling_strategy = {0:100000, 1:395185, 2:100000, 3:100000, 4:50000, 5:100000, 6:50000, 7:50000}\n",
    "    sm = combine.SMOTETomek(sampling_strategy=sampling_strategy, random_state=7)\n",
    "    X_sm, y_sm = sm.fit_resample(x_train, y_train)\n",
    "    if model_name(model) != 'Sequential':\n",
    "        model.fit(X_sm, y_sm)\n",
    "    else:\n",
    "        early_stopping = tf.keras.callbacks.EarlyStopping(min_delta=1e-5, patience=5)\n",
    "        model.fit(X_sm, y_sm, validation_split=0.3, epochs=80, \n",
    "                  callbacks=[early_stopping, TqdmCallback(verbose=0)], verbose=0)\n",
    "    return model_f1_conf_mat(model)"
   ]
  },
  {
   "cell_type": "code",
   "execution_count": null,
   "metadata": {
    "colab": {
     "base_uri": "https://localhost:8080/",
     "height": 451
    },
    "id": "ee7986ee",
    "outputId": "0d1ab55a-0261-4ea9-daaf-ca8aa6d292b5"
   },
   "outputs": [
    {
     "name": "stdout",
     "output_type": "stream",
     "text": [
      "LGBMClassifier\n",
      "f1_macro: 0.6917292124272907\n",
      "XGBClassifier\n"
     ]
    },
    {
     "ename": "ValueError",
     "evalue": "ignored",
     "output_type": "error",
     "traceback": [
      "\u001b[0;31m---------------------------------------------------------------------------\u001b[0m",
      "\u001b[0;31mValueError\u001b[0m                                Traceback (most recent call last)",
      "\u001b[0;32m<ipython-input-36-e52e24209b40>\u001b[0m in \u001b[0;36m<module>\u001b[0;34m()\u001b[0m\n\u001b[1;32m      1\u001b[0m \u001b[0;32mfor\u001b[0m \u001b[0mmodel\u001b[0m \u001b[0;32min\u001b[0m \u001b[0mmodels\u001b[0m\u001b[0;34m:\u001b[0m\u001b[0;34m\u001b[0m\u001b[0;34m\u001b[0m\u001b[0m\n\u001b[0;32m----> 2\u001b[0;31m     \u001b[0mget_write_result\u001b[0m\u001b[0;34m(\u001b[0m\u001b[0mmodel\u001b[0m\u001b[0;34m,\u001b[0m \u001b[0mget_f1_confusion_mat_custom_SMOTETomek\u001b[0m\u001b[0;34m)\u001b[0m\u001b[0;34m\u001b[0m\u001b[0;34m\u001b[0m\u001b[0m\n\u001b[0m",
      "\u001b[0;32m<ipython-input-14-e5ecd86a267a>\u001b[0m in \u001b[0;36mget_write_result\u001b[0;34m(model, get_func)\u001b[0m\n\u001b[1;32m     42\u001b[0m     \u001b[0mname\u001b[0m \u001b[0;34m=\u001b[0m \u001b[0mmodel_name\u001b[0m\u001b[0;34m(\u001b[0m\u001b[0mmodel\u001b[0m\u001b[0;34m)\u001b[0m\u001b[0;34m\u001b[0m\u001b[0;34m\u001b[0m\u001b[0m\n\u001b[1;32m     43\u001b[0m     \u001b[0mprint\u001b[0m\u001b[0;34m(\u001b[0m\u001b[0mname\u001b[0m\u001b[0;34m)\u001b[0m\u001b[0;34m\u001b[0m\u001b[0;34m\u001b[0m\u001b[0m\n\u001b[0;32m---> 44\u001b[0;31m     \u001b[0mf1\u001b[0m\u001b[0;34m,\u001b[0m \u001b[0mconf_mat\u001b[0m \u001b[0;34m=\u001b[0m \u001b[0mget_func\u001b[0m\u001b[0;34m(\u001b[0m\u001b[0mmodel\u001b[0m\u001b[0;34m)\u001b[0m\u001b[0;34m\u001b[0m\u001b[0;34m\u001b[0m\u001b[0m\n\u001b[0m\u001b[1;32m     45\u001b[0m     \u001b[0mprint\u001b[0m\u001b[0;34m(\u001b[0m\u001b[0;34m'f1_macro:'\u001b[0m\u001b[0;34m,\u001b[0m \u001b[0mf1\u001b[0m\u001b[0;34m)\u001b[0m\u001b[0;34m\u001b[0m\u001b[0;34m\u001b[0m\u001b[0m\n\u001b[1;32m     46\u001b[0m     \u001b[0mget_sns_heatmap\u001b[0m\u001b[0;34m(\u001b[0m\u001b[0mconf_mat\u001b[0m\u001b[0;34m)\u001b[0m\u001b[0;34m\u001b[0m\u001b[0;34m\u001b[0m\u001b[0m\n",
      "\u001b[0;32m<ipython-input-33-09682c9c6f21>\u001b[0m in \u001b[0;36mget_f1_confusion_mat_custom_SMOTETomek\u001b[0;34m(model, x_train, y_train, x_test, y_test)\u001b[0m\n\u001b[1;32m      9\u001b[0m         model.fit(X_sm, y_sm, validation_split=0.3, epochs=80, \n\u001b[1;32m     10\u001b[0m                   callbacks=[early_stopping, TqdmCallback(verbose=0)], verbose=0)\n\u001b[0;32m---> 11\u001b[0;31m     \u001b[0;32mreturn\u001b[0m \u001b[0mmodel_f1_conf_mat\u001b[0m\u001b[0;34m(\u001b[0m\u001b[0mmodel\u001b[0m\u001b[0;34m)\u001b[0m\u001b[0;34m\u001b[0m\u001b[0;34m\u001b[0m\u001b[0m\n\u001b[0m",
      "\u001b[0;32m<ipython-input-14-e5ecd86a267a>\u001b[0m in \u001b[0;36mmodel_f1_conf_mat\u001b[0;34m(model, x_test, y_test)\u001b[0m\n\u001b[1;32m     32\u001b[0m \u001b[0;32mdef\u001b[0m \u001b[0mmodel_f1_conf_mat\u001b[0m\u001b[0;34m(\u001b[0m\u001b[0mmodel\u001b[0m\u001b[0;34m,\u001b[0m \u001b[0mx_test\u001b[0m\u001b[0;34m=\u001b[0m\u001b[0mx_test\u001b[0m\u001b[0;34m,\u001b[0m \u001b[0my_test\u001b[0m\u001b[0;34m=\u001b[0m\u001b[0my_test\u001b[0m\u001b[0;34m)\u001b[0m\u001b[0;34m:\u001b[0m\u001b[0;34m\u001b[0m\u001b[0;34m\u001b[0m\u001b[0m\n\u001b[1;32m     33\u001b[0m     \u001b[0;32mif\u001b[0m \u001b[0mmodel_name\u001b[0m\u001b[0;34m(\u001b[0m\u001b[0mmodel\u001b[0m\u001b[0;34m)\u001b[0m \u001b[0;34m!=\u001b[0m \u001b[0;34m'Sequential'\u001b[0m\u001b[0;34m:\u001b[0m\u001b[0;34m\u001b[0m\u001b[0;34m\u001b[0m\u001b[0m\n\u001b[0;32m---> 34\u001b[0;31m         \u001b[0my_test_pred\u001b[0m \u001b[0;34m=\u001b[0m \u001b[0mmodel\u001b[0m\u001b[0;34m.\u001b[0m\u001b[0mpredict\u001b[0m\u001b[0;34m(\u001b[0m\u001b[0mx_test\u001b[0m\u001b[0;34m)\u001b[0m\u001b[0;34m\u001b[0m\u001b[0;34m\u001b[0m\u001b[0m\n\u001b[0m\u001b[1;32m     35\u001b[0m     \u001b[0;32melse\u001b[0m\u001b[0;34m:\u001b[0m\u001b[0;34m\u001b[0m\u001b[0;34m\u001b[0m\u001b[0m\n\u001b[1;32m     36\u001b[0m         \u001b[0my_test_pred\u001b[0m \u001b[0;34m=\u001b[0m \u001b[0mnp\u001b[0m\u001b[0;34m.\u001b[0m\u001b[0margmax\u001b[0m\u001b[0;34m(\u001b[0m\u001b[0mmodel\u001b[0m\u001b[0;34m.\u001b[0m\u001b[0mpredict\u001b[0m\u001b[0;34m(\u001b[0m\u001b[0mx_test\u001b[0m\u001b[0;34m)\u001b[0m\u001b[0;34m,\u001b[0m \u001b[0maxis\u001b[0m\u001b[0;34m=\u001b[0m\u001b[0;36m1\u001b[0m\u001b[0;34m)\u001b[0m\u001b[0;34m\u001b[0m\u001b[0;34m\u001b[0m\u001b[0m\n",
      "\u001b[0;32m/usr/local/lib/python3.7/dist-packages/xgboost/sklearn.py\u001b[0m in \u001b[0;36mpredict\u001b[0;34m(self, data, output_margin, ntree_limit, validate_features)\u001b[0m\n\u001b[1;32m    789\u001b[0m                                                  \u001b[0moutput_margin\u001b[0m\u001b[0;34m=\u001b[0m\u001b[0moutput_margin\u001b[0m\u001b[0;34m,\u001b[0m\u001b[0;34m\u001b[0m\u001b[0;34m\u001b[0m\u001b[0m\n\u001b[1;32m    790\u001b[0m                                                  \u001b[0mntree_limit\u001b[0m\u001b[0;34m=\u001b[0m\u001b[0mntree_limit\u001b[0m\u001b[0;34m,\u001b[0m\u001b[0;34m\u001b[0m\u001b[0;34m\u001b[0m\u001b[0m\n\u001b[0;32m--> 791\u001b[0;31m                                                  validate_features=validate_features)\n\u001b[0m\u001b[1;32m    792\u001b[0m         \u001b[0;32mif\u001b[0m \u001b[0moutput_margin\u001b[0m\u001b[0;34m:\u001b[0m\u001b[0;34m\u001b[0m\u001b[0;34m\u001b[0m\u001b[0m\n\u001b[1;32m    793\u001b[0m             \u001b[0;31m# If output_margin is active, simply return the scores\u001b[0m\u001b[0;34m\u001b[0m\u001b[0;34m\u001b[0m\u001b[0;34m\u001b[0m\u001b[0m\n",
      "\u001b[0;32m/usr/local/lib/python3.7/dist-packages/xgboost/core.py\u001b[0m in \u001b[0;36mpredict\u001b[0;34m(self, data, output_margin, ntree_limit, pred_leaf, pred_contribs, approx_contribs, pred_interactions, validate_features)\u001b[0m\n\u001b[1;32m   1282\u001b[0m \u001b[0;34m\u001b[0m\u001b[0m\n\u001b[1;32m   1283\u001b[0m         \u001b[0;32mif\u001b[0m \u001b[0mvalidate_features\u001b[0m\u001b[0;34m:\u001b[0m\u001b[0;34m\u001b[0m\u001b[0;34m\u001b[0m\u001b[0m\n\u001b[0;32m-> 1284\u001b[0;31m             \u001b[0mself\u001b[0m\u001b[0;34m.\u001b[0m\u001b[0m_validate_features\u001b[0m\u001b[0;34m(\u001b[0m\u001b[0mdata\u001b[0m\u001b[0;34m)\u001b[0m\u001b[0;34m\u001b[0m\u001b[0;34m\u001b[0m\u001b[0m\n\u001b[0m\u001b[1;32m   1285\u001b[0m \u001b[0;34m\u001b[0m\u001b[0m\n\u001b[1;32m   1286\u001b[0m         \u001b[0mlength\u001b[0m \u001b[0;34m=\u001b[0m \u001b[0mc_bst_ulong\u001b[0m\u001b[0;34m(\u001b[0m\u001b[0;34m)\u001b[0m\u001b[0;34m\u001b[0m\u001b[0;34m\u001b[0m\u001b[0m\n",
      "\u001b[0;32m/usr/local/lib/python3.7/dist-packages/xgboost/core.py\u001b[0m in \u001b[0;36m_validate_features\u001b[0;34m(self, data)\u001b[0m\n\u001b[1;32m   1688\u001b[0m \u001b[0;34m\u001b[0m\u001b[0m\n\u001b[1;32m   1689\u001b[0m                 raise ValueError(msg.format(self.feature_names,\n\u001b[0;32m-> 1690\u001b[0;31m                                             data.feature_names))\n\u001b[0m\u001b[1;32m   1691\u001b[0m \u001b[0;34m\u001b[0m\u001b[0m\n\u001b[1;32m   1692\u001b[0m     \u001b[0;32mdef\u001b[0m \u001b[0mget_split_value_histogram\u001b[0m\u001b[0;34m(\u001b[0m\u001b[0mself\u001b[0m\u001b[0;34m,\u001b[0m \u001b[0mfeature\u001b[0m\u001b[0;34m,\u001b[0m \u001b[0mfmap\u001b[0m\u001b[0;34m=\u001b[0m\u001b[0;34m''\u001b[0m\u001b[0;34m,\u001b[0m \u001b[0mbins\u001b[0m\u001b[0;34m=\u001b[0m\u001b[0;32mNone\u001b[0m\u001b[0;34m,\u001b[0m \u001b[0mas_pandas\u001b[0m\u001b[0;34m=\u001b[0m\u001b[0;32mTrue\u001b[0m\u001b[0;34m)\u001b[0m\u001b[0;34m:\u001b[0m\u001b[0;34m\u001b[0m\u001b[0;34m\u001b[0m\u001b[0m\n",
      "\u001b[0;31mValueError\u001b[0m: feature_names mismatch: ['f0', 'f1', 'f2', 'f3', 'f4', 'f5', 'f6', 'f7', 'f8', 'f9', 'f10', 'f11', 'f12', 'f13', 'f14', 'f15', 'f16', 'f17', 'f18', 'f19', 'f20', 'f21', 'f22'] ['f0', 'f1', 'f2', 'f3', 'f4', 'f5', 'f6', 'f7', 'f8', 'f9', 'f10', 'f11', 'f12', 'f13', 'f14', 'f15', 'f16', 'f17', 'f18', 'f19', 'c_a', 'c_b', 'c_c']\nexpected f22, f20, f21 in input data\ntraining data did not have the following fields: c_a, c_b, c_c"
     ]
    }
   ],
   "source": [
    "for model in models:\n",
    "    get_write_result(model, get_f1_confusion_mat_custom_SMOTETomek)"
   ]
  },
  {
   "cell_type": "markdown",
   "metadata": {
    "id": "9a16380a"
   },
   "source": [
    "## 4. F1 score using hyperparameter tuning inside algorithm to handle imbalance"
   ]
  },
  {
   "cell_type": "code",
   "execution_count": null,
   "metadata": {
    "id": "3bffb09e"
   },
   "outputs": [],
   "source": [
    "def get_f1_confusion_mat_hyperparameter_class_wt(model, x_train=x_train, y_train=y_train, x_test=x_test, y_test=y_test):\n",
    "    cls_wts = class_weight.compute_sample_weight(class_weight='balanced', y=y_train)\n",
    "    if model_name(model) != 'Sequential':\n",
    "        model.fit(x_train, y_train, sample_weight=cls_wts)\n",
    "    else:\n",
    "        early_stopping = tf.keras.callbacks.EarlyStopping(min_delta=1e-5, patience=5)\n",
    "        model.fit(x_train, y_train, sample_weight=cls_wts, validation_split=0.3, epochs=80, callbacks=[early_stopping, TqdmCallback(verbose=0)], verbose=0)\n",
    "    return model_f1_conf_mat(model)"
   ]
  },
  {
   "cell_type": "code",
   "execution_count": null,
   "metadata": {
    "id": "88974d37"
   },
   "outputs": [],
   "source": [
    "for model in models:\n",
    "    get_write_result(model, get_f1_confusion_mat_hyperparameter_class_wt)"
   ]
  },
  {
   "cell_type": "markdown",
   "metadata": {
    "id": "44cdceb4"
   },
   "source": [
    "# EDA"
   ]
  },
  {
   "cell_type": "code",
   "execution_count": null,
   "metadata": {
    "id": "0fd3e7e9",
    "outputId": "f0c44b24-b671-41a4-f0b0-880792ab3746"
   },
   "outputs": [
    {
     "data": {
      "text/plain": [
       "<seaborn.axisgrid.FacetGrid at 0x7fba4ff52e80>"
      ]
     },
     "execution_count": 19,
     "metadata": {},
     "output_type": "execute_result"
    },
    {
     "data": {
      "image/png": "[encoded data removed]",
      "text/plain": [
       "<Figure size 720x360 with 2 Axes>"
      ]
     },
     "metadata": {},
     "output_type": "display_data"
    }
   ],
   "source": [
    "sns.displot(x='Product', col='Timely response?', data=df)"
   ]
  },
  {
   "cell_type": "code",
   "execution_count": null,
   "metadata": {
    "id": "2e13b890",
    "outputId": "95feb58b-9000-4b3e-a767-4cf8c7a9ff5d"
   },
   "outputs": [
    {
     "data": {
      "text/plain": [
       "Other mortgage                            81715\n",
       "Conventional fixed mortgage               65036\n",
       "Conventional adjustable mortgage (ARM)    23615\n",
       "FHA mortgage                              22317\n",
       "Home equity loan or line of credit        10560\n",
       "VA mortgage                                4549\n",
       "Reverse mortgage                           1870\n",
       "Second mortgage                             662\n",
       "Name: Sub-product, dtype: int64"
      ]
     },
     "execution_count": 14,
     "metadata": {},
     "output_type": "execute_result"
    }
   ],
   "source": [
    "df[df['Product']=='Mortgage']['Sub-product'].value_counts()"
   ]
  },
  {
   "cell_type": "code",
   "execution_count": null,
   "metadata": {
    "id": "3f06603e",
    "outputId": "37d9c586-645f-4b1c-d3b3-f7a5aa4a94a2"
   },
   "outputs": [
    {
     "data": {
      "text/plain": [
       "Other mortgage                            81715\n",
       "Conventional fixed mortgage               65036\n",
       "Checking account                          53016\n",
       "Other (i.e. phone, health club, etc.)     37170\n",
       "I do not know                             26024\n",
       "Credit card                               25127\n",
       "Conventional adjustable mortgage (ARM)    23615\n",
       "FHA mortgage                              22317\n",
       "Non-federal student loan                  20698\n",
       "Medical                                   17128\n",
       "Vehicle loan                              15127\n",
       "Other bank product/service                14636\n",
       "Payday loan                               11469\n",
       "Home equity loan or line of credit        10560\n",
       "Installment loan                           7078\n",
       "Savings account                            4711\n",
       "VA mortgage                                4549\n",
       "Mortgage                                   4298\n",
       "Federal student loan servicing             3493\n",
       "(CD) Certificate of deposit                3158\n",
       "Auto                                       3126\n",
       "International money transfer               2470\n",
       "Domestic (US) money transfer               2264\n",
       "Vehicle lease                              2168\n",
       "Federal student loan                       2140\n",
       "Reverse mortgage                           1870\n",
       "Personal line of credit                    1707\n",
       "General purpose card                       1459\n",
       "Second mortgage                             662\n",
       "Cashing a check without an account          563\n",
       "Title loan                                  445\n",
       "Payroll card                                366\n",
       "Mobile wallet                               342\n",
       "Gift or merchant card                       316\n",
       "Government benefit payment card             306\n",
       "Debt settlement                             222\n",
       "Check cashing                               210\n",
       "ID prepaid card                             185\n",
       "Other special purpose card                  158\n",
       "Money order                                 113\n",
       "Credit repair                                80\n",
       "Pawn loan                                    79\n",
       "Traveler’s/Cashier’s checks                  69\n",
       "Refund anticipation check                    58\n",
       "Foreign currency exchange                    54\n",
       "Transit card                                 33\n",
       "Electronic Benefit Transfer / EBT card        6\n",
       "Name: Sub-product, dtype: int64"
      ]
     },
     "execution_count": 13,
     "metadata": {},
     "output_type": "execute_result"
    }
   ],
   "source": [
    "df['Sub-product'].value_counts()"
   ]
  },
  {
   "cell_type": "code",
   "execution_count": null,
   "metadata": {
    "colab": {
     "base_uri": "https://localhost:8080/"
    },
    "id": "4a204315",
    "outputId": "5abe4b33-b4a0-442a-d627-c2e4295569ae"
   },
   "outputs": [
    {
     "data": {
      "text/plain": [
       "0      243466\n",
       "1       61832\n",
       "2       43508\n",
       "3       33866\n",
       "4       32205\n",
       "        ...  \n",
       "299         1\n",
       "298         1\n",
       "296         1\n",
       "591         1\n",
       "511         1\n",
       "Name: time_delta, Length: 414, dtype: int64"
      ]
     },
     "execution_count": 136,
     "metadata": {},
     "output_type": "execute_result"
    }
   ],
   "source": [
    "x_train['time_delta'].value_counts()"
   ]
  },
  {
   "cell_type": "code",
   "execution_count": null,
   "metadata": {
    "id": "9198b60b"
   },
   "outputs": [],
   "source": []
  },
  {
   "cell_type": "code",
   "execution_count": null,
   "metadata": {
    "id": "OzIhGexx8tmG"
   },
   "outputs": [],
   "source": []
  }
 ],
 "metadata": {
  "colab": {
   "collapsed_sections": [],
   "name": "consumer_complaints_v2_colab.ipynb",
   "provenance": []
  },
  "kernelspec": {
   "display_name": "ml",
   "language": "python",
   "name": "ml"
  },
  "language_info": {
   "codemirror_mode": {
    "name": "ipython",
    "version": 3
   },
   "file_extension": ".py",
   "mimetype": "text/x-python",
   "name": "python",
   "nbconvert_exporter": "python",
   "pygments_lexer": "ipython3",
   "version": "3.8.5"
  },
  "varInspector": {
   "cols": {
    "lenName": 16,
    "lenType": 16,
    "lenVar": 40
   },
   "kernels_config": {
    "python": {
     "delete_cmd_postfix": "",
     "delete_cmd_prefix": "del ",
     "library": "var_list.py",
     "varRefreshCmd": "print(var_dic_list())"
    },
    "r": {
     "delete_cmd_postfix": ") ",
     "delete_cmd_prefix": "rm(",
     "library": "var_list.r",
     "varRefreshCmd": "cat(var_dic_list()) "
    }
   },
   "types_to_exclude": [
    "module",
    "function",
    "builtin_function_or_method",
    "instance",
    "_Feature"
   ],
   "window_display": false
  }
 },
 "nbformat": 4,
 "nbformat_minor": 5
}
